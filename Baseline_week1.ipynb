{
 "cells": [
  {
   "cell_type": "markdown",
   "metadata": {},
   "source": [
    "## 1. Data\n",
    "\n",
    "Use the .json file"
   ]
  },
  {
   "cell_type": "code",
   "execution_count": 1,
   "metadata": {
    "collapsed": true
   },
   "outputs": [],
   "source": [
    "import sys\n",
    "sys.path.insert(0,'..')\n",
    "\n",
    "import os\n",
    "import json\n",
    "import pickle\n",
    "import requests\n",
    "import shutil\n",
    "import random\n",
    "import numpy as np\n",
    "\n",
    "from collections import defaultdict\n",
    "from scipy import ndimage\n",
    "from datetime import date\n",
    "from datetime import datetime\n",
    "\n",
    "import matplotlib.pyplot as plt"
   ]
  },
  {
   "cell_type": "markdown",
   "metadata": {},
   "source": [
    "Explore the description dataset"
   ]
  },
  {
   "cell_type": "code",
   "execution_count": 2,
   "metadata": {
    "collapsed": true
   },
   "outputs": [],
   "source": [
    "filename_wegvakken = \"../data/nwb_wegvakken/2017_09_wegvakken.json\"\n",
    "dict_wegvakken = json.load(open(filename_wegvakken))"
   ]
  },
  {
   "cell_type": "code",
   "execution_count": 3,
   "metadata": {},
   "outputs": [
    {
     "name": "stdout",
     "output_type": "stream",
     "text": [
      "The dictionary contains two keys  ['type', 'features']\n",
      "The features contains 1013928 points\n",
      "Each point contains features  ['type', 'geometry', 'properties']\n"
     ]
    }
   ],
   "source": [
    "print('The dictionary contains two keys ', list(dict_wegvakken.keys()))\n",
    "\n",
    "print('The features contains {} points'.format(len(dict_wegvakken['features'])))\n",
    "    \n",
    "print('Each point contains features ', list(dict_wegvakken['features'][0].keys()))"
   ]
  },
  {
   "cell_type": "code",
   "execution_count": 4,
   "metadata": {},
   "outputs": [
    {
     "name": "stdout",
     "output_type": "stream",
     "text": [
      "- features\n",
      "-- type\n",
      "-- geometry\n",
      "-------- type\n",
      "-------- coordinates\n",
      "-- properties\n",
      "-------- WEGBEHSRT\n"
     ]
    }
   ],
   "source": [
    "print('- features')\n",
    "for k in dict_wegvakken['features'][0].keys():\n",
    "    print('-- {}'.format(k))\n",
    "    if k=='type':\n",
    "        pass\n",
    "    elif k == 'properties':\n",
    "        print('-------- {}'.format('WEGBEHSRT'))\n",
    "    else:\n",
    "        for kk in dict_wegvakken['features'][0][k].keys():\n",
    "            print('-------- {}'.format(kk))\n"
   ]
  },
  {
   "cell_type": "code",
   "execution_count": 5,
   "metadata": {
    "collapsed": true
   },
   "outputs": [],
   "source": [
    "dict_wegvakken = dict_wegvakken['features']"
   ]
  },
  {
   "cell_type": "code",
   "execution_count": 6,
   "metadata": {
    "collapsed": true
   },
   "outputs": [],
   "source": [
    "dict_roadtype = {\n",
    "    \"G\": 'Municipality',\n",
    "    \"R\": 'Goverment',\n",
    "    \"P\": 'Provincie',\n",
    "    \"W\": 'Water managerment authorities',\n",
    "    'T': 'Other type'\n",
    "}\n"
   ]
  },
  {
   "cell_type": "code",
   "execution_count": 7,
   "metadata": {
    "collapsed": true
   },
   "outputs": [],
   "source": [
    "PROPERTIES_KEY = 'properties'\n",
    "ROAD_TYPE_KEY = 'WEGBEHSRT'\n",
    "GEOMETRY_KEY = 'geometry'\n",
    "COORDINATES_KEY = 'coordinates'\n",
    "\n",
    "POINTS_PER_METER = 0.1\n",
    "dx = 200\n",
    "dy = 200\n",
    "\n",
    "x_min = 95000\n",
    "y_min = 427000\n",
    "x_max = 110000\n",
    "y_max = 447000\n",
    "bounding_box = [x_min, y_min, x_max, y_max]\n",
    "\n",
    "FOLDER_IMG = '../datasets/image_tiles_200/'"
   ]
  },
  {
   "cell_type": "markdown",
   "metadata": {},
   "source": [
    "### Data Labeling"
   ]
  },
  {
   "cell_type": "code",
   "execution_count": 8,
   "metadata": {
    "collapsed": true
   },
   "outputs": [],
   "source": [
    "def add_to_dict(d1, d2, d3, coordinates, rtype):\n",
    "    \"\"\"\n",
    "    d1: dict_tile_contents, tile: road segmentation\n",
    "    d2: dict_rtype_tile, road type: tiles\n",
    "    d3: dict_tile_rtype, tile: road type\n",
    "    \"\"\"\n",
    "    coordinate_ll_x = int((coordinates[0] // dx)*dx)\n",
    "    coordinate_ll_y = int((coordinates[1] // dy)*dy)\n",
    "    coordinate_ur_x = int((coordinates[0] // dx)*dx + dx)\n",
    "    coordinate_ur_y = int((coordinates[1] // dy)*dy + dy)\n",
    "    tile = \"{}_{}_{}_{}.jpg\".format(coordinate_ll_x, coordinate_ll_y, coordinate_ur_x, coordinate_ur_y)\n",
    "    \n",
    "    rel_coord_x = (coordinates[0] - coordinate_ll_x) / dx\n",
    "    rel_coord_y = (coordinates[1] - coordinate_ll_y) / dy\n",
    "    value = (rtype, rel_coord_x, rel_coord_y)\n",
    "    d1[tile].append(value)\n",
    "    d2[rtype].add(tile)\n",
    "    d3[tile].add(rtype)\n",
    "\n",
    "def coord_is_in_bb(coord, bb):\n",
    "    \"\"\"Check whether the coordinate is in the bounding box\"\"\"\n",
    "    x_min = bb[0]\n",
    "    y_min = bb[1]\n",
    "    x_max = bb[2]\n",
    "    y_max = bb[3]\n",
    "    return coord[0] > x_min and coord[0] < x_max and coord[1] > y_min and coord[1] < y_max\n",
    "\n",
    "def retrieve_roadtype(elem):\n",
    "    return elem[PROPERTIES_KEY][ROAD_TYPE_KEY]\n",
    "   \n",
    "def retrieve_coordinates(elem):\n",
    "    return elem[GEOMETRY_KEY][COORDINATES_KEY]\n",
    "\n",
    "def eucledian_distance(p1, p2):\n",
    "    diff = np.array(p2)-np.array(p1)\n",
    "    return np.linalg.norm(diff)\n",
    "\n",
    "def calculate_intermediate_points(p1, p2, no_points):\n",
    "    dx = (p2[0] - p1[0]) / (no_points + 1)\n",
    "    dy = (p2[1] - p1[1]) / (no_points + 1)\n",
    "    return [[p1[0] + i * dx, p1[1] +  i * dy] for i in range(1, no_points+1)]"
   ]
  },
  {
   "cell_type": "code",
   "execution_count": 9,
   "metadata": {
    "collapsed": true
   },
   "outputs": [],
   "source": [
    "d_tile_contents = defaultdict(list)\n",
    "d_roadtype_tiles = defaultdict(set)\n",
    "d_tile_rtype = defaultdict(set)\n",
    "\n",
    "for elem in dict_wegvakken:\n",
    "    coordinates = retrieve_coordinates(elem)\n",
    "    rtype = retrieve_roadtype(elem)\n",
    "    coordinates_in_bb = [coord for coord in coordinates if coord_is_in_bb(coord, bounding_box)]\n",
    "    #coordinates_in_bb = [coord for coord in coordinates if coord_is_in_bb(coord, small_box)]\n",
    "    if len(coordinates_in_bb)==1:\n",
    "        coord = coordinates_in_bb[0]\n",
    "        add_to_dict(d_tile_contents, d_roadtype_tiles, d_tile_rtype, coord, rtype)\n",
    "    if len(coordinates_in_bb)>1:\n",
    "        add_to_dict(d_tile_contents, d_roadtype_tiles, d_tile_rtype, coordinates_in_bb[0], rtype)\n",
    "        for ii in range(1,len(coordinates_in_bb)):\n",
    "            previous_coord = coordinates_in_bb[ii-1]\n",
    "            coord = coordinates_in_bb[ii]\n",
    "            add_to_dict(d_tile_contents, d_roadtype_tiles, d_tile_rtype,coord, rtype)\n",
    "            \n",
    "            dist = eucledian_distance(previous_coord, coord)\n",
    "            no_intermediate_points = int(dist*POINTS_PER_METER)           \n",
    "            intermediate_coordinates = calculate_intermediate_points(previous_coord, coord, no_intermediate_points)\n",
    "            for intermediate_coord in intermediate_coordinates:\n",
    "                add_to_dict(d_tile_contents, d_roadtype_tiles, d_tile_rtype, intermediate_coord, rtype)"
   ]
  },
  {
   "cell_type": "code",
   "execution_count": 10,
   "metadata": {},
   "outputs": [
    {
     "name": "stdout",
     "output_type": "stream",
     "text": [
      "4947 tiles contain roads.\n"
     ]
    }
   ],
   "source": [
    "print(\"{} tiles contain roads.\".format(len(d_tile_contents)))"
   ]
  },
  {
   "cell_type": "markdown",
   "metadata": {},
   "source": [
    "Here we start to label the all images."
   ]
  },
  {
   "cell_type": "code",
   "execution_count": 11,
   "metadata": {
    "collapsed": true
   },
   "outputs": [],
   "source": [
    "data_img = os.listdir(FOLDER_IMG)"
   ]
  },
  {
   "cell_type": "code",
   "execution_count": 12,
   "metadata": {
    "collapsed": true
   },
   "outputs": [],
   "source": [
    "d_tile_label = defaultdict(str)\n",
    "for img in data_img:\n",
    "    tmp_road = ''\n",
    "    for r in list(d_tile_rtype[img]):\n",
    "        tmp_road += '-'+r\n",
    "    d_tile_label[img] = tmp_road[1:]"
   ]
  },
  {
   "cell_type": "code",
   "execution_count": 13,
   "metadata": {
    "collapsed": true
   },
   "outputs": [],
   "source": [
    "\"\"\"Encoder the rtype\"\"\"\n",
    "rtype2int = {'':0, 'G':1, 'P':2, 'R':3, 'W':4, 'T':5, 'M':6}\n",
    "data_pair = defaultdict(int)\n",
    "for tile in d_tile_label.keys():\n",
    "    if len(d_tile_label[tile])>1:\n",
    "        data_pair[tile] = rtype2int['M']\n",
    "    else:\n",
    "        data_pair[tile] = rtype2int[d_tile_label[tile]]"
   ]
  },
  {
   "cell_type": "code",
   "execution_count": 14,
   "metadata": {
    "collapsed": true
   },
   "outputs": [],
   "source": [
    "int2rtype = {0: '0', 1:'G', 2:'P', 3:'R', 4:'W', 5:'T', 6:'M'}"
   ]
  },
  {
   "cell_type": "markdown",
   "metadata": {},
   "source": [
    "Stats of data"
   ]
  },
  {
   "cell_type": "code",
   "execution_count": 15,
   "metadata": {},
   "outputs": [
    {
     "name": "stdout",
     "output_type": "stream",
     "text": [
      "0  2553\n",
      "1 G 3174\n",
      "2 G-P 110\n",
      "3 G-P-R 5\n",
      "4 G-P-W 12\n",
      "5 G-R 205\n",
      "6 G-T 1\n",
      "7 G-W 232\n",
      "8 G-W-R 40\n",
      "9 P 113\n",
      "10 P-R 2\n",
      "11 P-W 49\n",
      "12 P-W-R 1\n",
      "13 R 70\n",
      "14 W 863\n",
      "15 W-R 70\n",
      "\n",
      " 2553\n",
      "G 3174\n",
      "M 727\n",
      "P 113\n",
      "R 70\n",
      "W 863\n",
      "\n",
      "7500\n"
     ]
    }
   ],
   "source": [
    "d_rtype_counts = defaultdict(int)\n",
    "d_rtype_cnt_merge = defaultdict(int)\n",
    "for img in d_tile_label.keys():\n",
    "    d_rtype_counts[d_tile_label[img]] += 1\n",
    "    if len(d_tile_label[img])>1:\n",
    "        d_rtype_cnt_merge['M'] += 1\n",
    "    else:\n",
    "        d_rtype_cnt_merge[d_tile_label[img]] += 1\n",
    "for i, rt in enumerate(sorted(d_rtype_counts.keys())):\n",
    "    print(i, rt, d_rtype_counts[rt])\n",
    "\n",
    "print()\n",
    "cnt = 0\n",
    "for rt in sorted(d_rtype_cnt_merge.keys()):\n",
    "    print(rt, d_rtype_cnt_merge[rt])\n",
    "    cnt += d_rtype_cnt_merge[rt]\n",
    "\n",
    "print('\\n{}'.format(cnt))"
   ]
  },
  {
   "cell_type": "code",
   "execution_count": 16,
   "metadata": {
    "collapsed": true
   },
   "outputs": [],
   "source": [
    "R_Folder = '../result/week1/'"
   ]
  },
  {
   "cell_type": "code",
   "execution_count": 18,
   "metadata": {},
   "outputs": [
    {
     "data": {
      "image/png": "[encoded data removed]",
      "text/plain": [
       "<matplotlib.figure.Figure at 0x18806ada0>"
      ]
     },
     "metadata": {},
     "output_type": "display_data"
    }
   ],
   "source": [
    "x = [k if len(k)>0 else '0' for k in d_rtype_counts.keys()]\n",
    "y = [d_rtype_counts[k] if k!='0' else d_rtype_counts[''] for k in x]\n",
    "x_n = [i for i in range(len(x))]\n",
    "plt.bar(x_n, y)\n",
    "#plt.xticks(x_n,x,rotation='vertical')\n",
    "plt.xticks(x_n,x,rotation=40)\n",
    "plt.show()"
   ]
  },
  {
   "cell_type": "code",
   "execution_count": 85,
   "metadata": {},
   "outputs": [
    {
     "data": {
      "text/plain": [
       "70"
      ]
     },
     "execution_count": 85,
     "metadata": {},
     "output_type": "execute_result"
    }
   ],
   "source": [
    "d_rtype_cnt_merge['R']"
   ]
  },
  {
   "cell_type": "code",
   "execution_count": 19,
   "metadata": {},
   "outputs": [
    {
     "data": {
      "image/png": "[encoded data removed]",
      "text/plain": [
       "<matplotlib.figure.Figure at 0x18810c2b0>"
      ]
     },
     "metadata": {},
     "output_type": "display_data"
    }
   ],
   "source": [
    "x = [k if len(k)>0 else '0' for k in d_rtype_cnt_merge.keys()]\n",
    "y = [d_rtype_cnt_merge[k] if k!='0' else d_rtype_cnt_merge[''] for k in x]\n",
    "x_n = [i for i in range(len(x))]\n",
    "plt.bar(x_n, y)\n",
    "#plt.xticks(x_n,x,rotation='vertical')\n",
    "plt.xticks(x_n,x,rotation=40)\n",
    "plt.show()"
   ]
  },
  {
   "cell_type": "code",
   "execution_count": 26,
   "metadata": {},
   "outputs": [
    {
     "data": {
      "image/png": "[encoded data removed]",
      "text/plain": [
       "<matplotlib.figure.Figure at 0x1890564e0>"
      ]
     },
     "metadata": {},
     "output_type": "display_data"
    }
   ],
   "source": [
    "x = sorted(list(int2rtype.keys()))\n",
    "y = [d_rtype_cnt_merge[int2rtype[k]] if k>0 else d_rtype_cnt_merge[''] for k in x]\n",
    "x_label = [int2rtype[k] for k in x]\n",
    "\n",
    "bar = plt.bar(x, y)\n",
    "plt.xticks(x,x_label,rotation=40)\n",
    "\n",
    "for i, rect in enumerate(bar):\n",
    "    height = rect.get_height()\n",
    "    plt.text(rect.get_x() + rect.get_width()/2.0, height, '{}'.format(height), ha='center', va='bottom')\n",
    "\n",
    "plt.xlabel('Road Type')\n",
    "plt.ylabel('count')\n",
    "\n",
    "plt.savefig('../results/rtype_stats.pdf')\n",
    "\n",
    "plt.show()"
   ]
  },
  {
   "cell_type": "markdown",
   "metadata": {},
   "source": [
    "Split dataset into train dataset and validatiaon dataset"
   ]
  },
  {
   "cell_type": "code",
   "execution_count": 17,
   "metadata": {
    "collapsed": true
   },
   "outputs": [],
   "source": [
    "TRAIN_SIZE = 6000\n",
    "VAL_SIZE = 1500"
   ]
  },
  {
   "cell_type": "code",
   "execution_count": 18,
   "metadata": {
    "collapsed": true
   },
   "outputs": [],
   "source": [
    "data = list(data_pair)\n",
    "random.shuffle(data)\n",
    "data_train = data[:TRAIN_SIZE]\n",
    "data_val = data[TRAIN_SIZE:]"
   ]
  },
  {
   "cell_type": "code",
   "execution_count": 115,
   "metadata": {
    "collapsed": true
   },
   "outputs": [],
   "source": [
    "# import pickle\n",
    "\n",
    "# with open('train_imgs.pkl', 'wb') as f:\n",
    "#     pickle.dump(mylist, f)"
   ]
  },
  {
   "cell_type": "markdown",
   "metadata": {},
   "source": [
    "Create Dataset and DataLoader"
   ]
  },
  {
   "cell_type": "code",
   "execution_count": 19,
   "metadata": {
    "collapsed": true
   },
   "outputs": [],
   "source": [
    "import torch\n",
    "from torch.utils.data import Dataset, DataLoader\n",
    "\n",
    "import torch.nn as nn\n",
    "import torch.nn.functional as F\n",
    "import torch.optim as optim\n",
    "from torch.utils.data import Dataset, DataLoader\n",
    "from torchvision import transforms, utils"
   ]
  },
  {
   "cell_type": "code",
   "execution_count": 20,
   "metadata": {
    "collapsed": true
   },
   "outputs": [],
   "source": [
    "class Insight_Dataset(Dataset):\n",
    "    \"\"\"\n",
    "    The size of image is (3, 256, 256)\n",
    "    \"\"\"\n",
    "    def __init__(self, img_folder, data, pair):\n",
    "        self.folder = img_folder\n",
    "        self.data = data\n",
    "        #self.keys = list(d_tile_label.keys()).sort(key=lambda x: [int(x.split('_')[0]), int(x.split('_')[1])])\n",
    "        self.pair = pair\n",
    "    \n",
    "    def __len__(self):\n",
    "        return len(self.data)\n",
    "    \n",
    "\n",
    "    def __getitem__(self, idx):\n",
    "        '''\n",
    "        return （image, label）\n",
    "        '''\n",
    "        tile_name = self.folder + self.data[idx]\n",
    "        img = plt.imread(tile_name)\n",
    "        label = self.pair[self.data[idx]]\n",
    "        return (torch.FloatTensor(img.T), label)\n"
   ]
  },
  {
   "cell_type": "code",
   "execution_count": 21,
   "metadata": {
    "collapsed": true
   },
   "outputs": [],
   "source": [
    "BATCH_SIZE = 32\n",
    "train_data = Insight_Dataset(FOLDER_IMG, data_train, data_pair)\n",
    "train_loader = torch.utils.data.DataLoader(dataset=train_data,\n",
    "                                           batch_size=BATCH_SIZE,\n",
    "                                           shuffle=True)\n",
    "val_data = Insight_Dataset(FOLDER_IMG, data_val, data_pair)\n",
    "val_loader = torch.utils.data.DataLoader(dataset=val_data,\n",
    "                                        batch_size = BATCH_SIZE,\n",
    "                                        shuffle = True)"
   ]
  },
  {
   "cell_type": "code",
   "execution_count": 50,
   "metadata": {
    "collapsed": true
   },
   "outputs": [],
   "source": [
    "class CNN(nn.Module):\n",
    "    def __init__(self):\n",
    "        super(CNN, self).__init__()\n",
    "        \n",
    "        self.conv1 = nn.Conv2d(3, 64 , (3, 3), stride=(1, 1), padding=1)\n",
    "        self.conv2 = nn.Conv2d(64, 64 , (3, 3), stride=(2, 2), padding=1)\n",
    "        \n",
    "        self.conv3 = nn.Conv2d(64, 128 , (3, 3), stride=(1, 1), padding=1)\n",
    "        self.conv4 = nn.Conv2d(128, 128 , (3, 3), stride=(2, 2), padding=1)\n",
    "        \n",
    "        self.conv5 = nn.Conv2d(128, 256 , (3, 3), stride=(1, 1), padding=1)\n",
    "        self.conv6 = nn.Conv2d(256, 256 , (3, 3), stride=(1, 1), padding=1)\n",
    "        \n",
    "        self.conv7 = nn.Conv2d(256, 512 , (3, 3), stride=(1, 1), padding=1)\n",
    "        self.conv8 = nn.Conv2d(512, 512 , (3, 3), stride=(1, 1), padding=1)\n",
    "        \n",
    "        self.relu = nn.ReLU()\n",
    "        self.maxpool = nn.MaxPool2d((2,2), stride = (2,2))\n",
    "        self.linear = nn.Linear(512*4*4, 7)\n",
    "        \n",
    "       \n",
    "        \n",
    "    def forward(self, img):\n",
    "        hidden = self.relu(self.conv1(img))\n",
    "        hidden = self.relu(self.conv2(hidden))\n",
    "        hidden = self.maxpool(hidden)\n",
    "        \n",
    "        hidden = self.relu(self.conv3(hidden))\n",
    "        hidden = self.relu(self.conv4(hidden))\n",
    "        hidden = self.maxpool(hidden)\n",
    "        \n",
    "        hidden = self.relu(self.conv5(hidden))\n",
    "        hidden = self.relu(self.conv6(hidden))\n",
    "        hidden = self.maxpool(hidden)\n",
    "        \n",
    "        hidden = self.relu(self.conv7(hidden))\n",
    "        hidden = self.relu(self.conv8(hidden))\n",
    "        hidden = self.maxpool(hidden)\n",
    "        \n",
    "        out = hidden.view(hidden.size(0), -1)\n",
    "        out = self.linear(out)\n",
    "        \n",
    "        return out "
   ]
  },
  {
   "cell_type": "code",
   "execution_count": 51,
   "metadata": {
    "collapsed": true
   },
   "outputs": [],
   "source": [
    "model = CNN()"
   ]
  },
  {
   "cell_type": "code",
   "execution_count": 52,
   "metadata": {
    "collapsed": true
   },
   "outputs": [],
   "source": [
    "b = model(a)"
   ]
  },
  {
   "cell_type": "code",
   "execution_count": 53,
   "metadata": {},
   "outputs": [
    {
     "data": {
      "text/plain": [
       "torch.Size([1, 7])"
      ]
     },
     "execution_count": 53,
     "metadata": {},
     "output_type": "execute_result"
    }
   ],
   "source": [
    "b.shape"
   ]
  },
  {
   "cell_type": "markdown",
   "metadata": {},
   "source": [
    "# Training the model"
   ]
  },
  {
   "cell_type": "code",
   "execution_count": 55,
   "metadata": {
    "collapsed": true
   },
   "outputs": [],
   "source": [
    "def test_model(loader, model):\n",
    "    \"\"\"\n",
    "    Help function that tests the model's performance on a dataset\n",
    "    @param: loader - data loader for the dataset to test against\n",
    "    \"\"\"\n",
    "    correct = 0\n",
    "    total = 0\n",
    "    total_loss = 0\n",
    "    criterion_test = nn.CrossEntropyLoss()\n",
    "    model.eval()\n",
    "    torch.no_grad()\n",
    "    for (imgs, labels) in loader:\n",
    "        imgs, labels = imgs.to(device),  labels.to(device)\n",
    "        outputs = model(imgs)\n",
    "        \n",
    "        loss_test = float(criterion_test(outputs, labels))\n",
    "        total_loss += loss_test       \n",
    "        outputs = F.softmax(outputs, dim=1)\n",
    "        predicted = outputs.max(1, keepdim=True)[1]\n",
    "\n",
    "        total += labels.size(0)\n",
    "        correct += predicted.eq(labels.view_as(predicted)).sum().item()\n",
    "    return (100 * correct / total), total_loss/len(loader)"
   ]
  },
  {
   "cell_type": "code",
   "execution_count": 30,
   "metadata": {
    "collapsed": true
   },
   "outputs": [],
   "source": [
    "device = torch.device('cuda:0' if torch.cuda.is_available() else 'cpu')"
   ]
  },
  {
   "cell_type": "code",
   "execution_count": 62,
   "metadata": {
    "collapsed": true
   },
   "outputs": [],
   "source": [
    "model = CNN().to(device)"
   ]
  },
  {
   "cell_type": "code",
   "execution_count": 63,
   "metadata": {
    "collapsed": true
   },
   "outputs": [],
   "source": [
    "model_name = '../models/week1.pt'\n",
    "best_val_acc = 0"
   ]
  },
  {
   "cell_type": "code",
   "execution_count": 64,
   "metadata": {},
   "outputs": [
    {
     "name": "stdout",
     "output_type": "stream",
     "text": [
      "Epoch: [1/5], Step: [101/188], Train Loss: 1.2566126264790272, Train Acc: 57.45, Val Acc: 56.6\n"
     ]
    },
    {
     "name": "stderr",
     "output_type": "stream",
     "text": [
      "/home/ml5893/pyenv/py3.6.3/lib/python3.6/site-packages/torch/serialization.py:241: UserWarning: Couldn't retrieve source code for container of type CNN. It won't be checked for correctness upon loading.\n",
      "  \"type \" + obj.__name__ + \". It won't be checked \"\n"
     ]
    },
    {
     "name": "stdout",
     "output_type": "stream",
     "text": [
      "Epoch: [2/5], Step: [101/188], Train Loss: 0.9233124330639839, Train Acc: 66.56666666666666, Val Acc: 66.8\n",
      "Epoch: [3/5], Step: [101/188], Train Loss: 0.9628773743801928, Train Acc: 65.33333333333333, Val Acc: 67.6\n",
      "Epoch: [4/5], Step: [101/188], Train Loss: 1.0036077743515055, Train Acc: 64.08333333333333, Val Acc: 62.333333333333336\n",
      "Epoch: [5/5], Step: [101/188], Train Loss: 0.8414420770837906, Train Acc: 69.0, Val Acc: 68.53333333333333\n"
     ]
    }
   ],
   "source": [
    "learning_rate = 1e-4\n",
    "num_epochs = 5 # number epoch to train\n",
    "\n",
    "# Criterion and Optimizer\n",
    "criterion = torch.nn.CrossEntropyLoss()\n",
    "optimizer = torch.optim.Adam(model.parameters(), lr=learning_rate)\n",
    "\n",
    "val_acc_record = []\n",
    "train_acc_record = []\n",
    "val_loss_record = []\n",
    "train_loss_record = []\n",
    "step_record = []\n",
    "\n",
    "# Train the model\n",
    "total_step = len(train_loader)\n",
    "\n",
    "for epoch in range(num_epochs):\n",
    "    for i, (imgs, labels) in enumerate(train_loader):\n",
    "        model.train()\n",
    "        optimizer.zero_grad()\n",
    "        # Forward pass\n",
    "        outputs = model(imgs.to(device))\n",
    "        loss = criterion(outputs, labels.to(device))\n",
    "\n",
    "        # Backward and optimize\n",
    "        loss.backward()\n",
    "        optimizer.step()\n",
    "        # validate every 100 iterations\n",
    "        if i >0 and i % 100 == 0:\n",
    "            # validate\n",
    "            val_acc, val_loss = test_model(val_loader, model)\n",
    "            val_acc_record.append(val_acc)\n",
    "            val_loss_record.append(val_loss)\n",
    "            train_acc, train_loss = test_model(train_loader, model)\n",
    "            train_acc_record.append(train_acc)\n",
    "            train_loss_record.append(train_loss)\n",
    "            step_record.append(i + epoch*total_step)\n",
    "            print('Epoch: [{}/{}], Step: [{}/{}], Train Loss: {}, Train Acc: {}, Val Acc: {}'.format(\n",
    "                       epoch+1, num_epochs, i+1, len(train_loader), train_loss, train_acc, val_acc))\n",
    "            if val_acc > best_val_acc:\n",
    "                with open(model_name, 'wb') as f:\n",
    "                    torch.save(model, f)\n",
    "                    best_val_loss = val_loss\n",
    "\n",
    "# training_curve = zip(step_record, train_acc_record, train_loss_record, val_acc_record, val_loss_record)\n",
    "# pkl.dump(training_curve, open(result_FILE, \"wb\"))"
   ]
  },
  {
   "cell_type": "markdown",
   "metadata": {},
   "source": [
    "# Analyze Result"
   ]
  },
  {
   "cell_type": "code",
   "execution_count": 87,
   "metadata": {
    "collapsed": true
   },
   "outputs": [],
   "source": [
    "val_data = Insight_Dataset(FOLDER_IMG, data_val, data_pair)\n",
    "val_loader = torch.utils.data.DataLoader(dataset=val_data,\n",
    "                                        batch_size = 1,\n",
    "                                        shuffle = False)"
   ]
  },
  {
   "cell_type": "code",
   "execution_count": 97,
   "metadata": {
    "collapsed": true
   },
   "outputs": [],
   "source": [
    "correct = defaultdict(int)\n",
    "fault = defaultdict(list)\n",
    "total = defaultdict(int)\n",
    "total_loss = defaultdict(int)\n",
    "\n",
    "model.eval()\n",
    "torch.no_grad()\n",
    "\n",
    "\n",
    "for i, (img, label) in enumerate(val_loader):\n",
    "    img = img.to(device)\n",
    "    outputs = model(img)\n",
    "\n",
    "    #loss_test = float(criterion_test(outputs, labels))\n",
    "    #total_loss += loss_test       \n",
    "    outputs = F.softmax(outputs, dim=1)\n",
    "    predicted = outputs.max(1, keepdim=True)[1]\n",
    "    pred = np.asarray(predicted)[0][0]\n",
    "    label = np.asarray(label)[0]\n",
    "    if pred==label:\n",
    "        correct[label] += 1\n",
    "    else:\n",
    "        fault[label].append([i, pred])\n",
    "    total[label]+= 1\n",
    "\n",
    "    #total += labels.size(0)\n",
    "    #correct += predicted.eq(labels.view_as(predicted)).sum().item()"
   ]
  },
  {
   "cell_type": "code",
   "execution_count": 103,
   "metadata": {},
   "outputs": [
    {
     "data": {
      "text/plain": [
       "defaultdict(float,\n",
       "            {4: 0.18823529411764706,\n",
       "             0: 0.8141263940520446,\n",
       "             1: 0.9088,\n",
       "             3: 0.0,\n",
       "             6: 0.0,\n",
       "             2: 0.0})"
      ]
     },
     "execution_count": 103,
     "metadata": {},
     "output_type": "execute_result"
    }
   ],
   "source": [
    "accuracy = defaultdict(float)\n",
    "for k in total.keys():\n",
    "    accuracy[k] = correct[k]/total[k]\n",
    "accuracy"
   ]
  },
  {
   "cell_type": "code",
   "execution_count": 104,
   "metadata": {},
   "outputs": [
    {
     "data": {
      "text/plain": [
       "defaultdict(int, {4: 170, 0: 538, 1: 625, 3: 17, 6: 134, 2: 16})"
      ]
     },
     "execution_count": 104,
     "metadata": {},
     "output_type": "execute_result"
    }
   ],
   "source": [
    "total"
   ]
  },
  {
   "cell_type": "code",
   "execution_count": 140,
   "metadata": {},
   "outputs": [
    {
     "data": {
      "image/png": "[encoded data removed]",
      "text/plain": [
       "<matplotlib.figure.Figure at 0x2b326e64dba8>"
      ]
     },
     "metadata": {
      "needs_background": "light"
     },
     "output_type": "display_data"
    }
   ],
   "source": [
    "#int2rtype = {0: '0', 1:'G', 2:'P', 3:'R', 4:'W', 5:'T', 6:'M'}\n",
    "x = sorted(list(int2rtype.keys()))\n",
    "total_cnt = [total[k] for k in x]\n",
    "correct_cnt = [correct[k] for k in x]\n",
    "x_label = [int2rtype[k] for k in x]\n",
    "\n",
    "ax = plt.subplot(111)\n",
    "bar = ax.bar(x, total_cnt, width=0.6, color='r', align='center', label = 'Incorrect')\n",
    "ax.bar(x, correct_cnt, width=0.6, color='g', align='center', label = 'Correct')\n",
    "#ax.bar(x+0.2, k, width=0.2, color='r', align='center')\n",
    "\n",
    "# plt.bar(x, y2)\n",
    "# plt.bar(x, y)\n",
    "plt.xticks(x,x_label,rotation=40)\n",
    "\n",
    "for i, rect in enumerate(bar):\n",
    "    height = rect.get_height()\n",
    "    plt.text(rect.get_x() + rect.get_width()/2.0, height, '{:.1f}%'.format(100*correct_cnt[i]/(total_cnt[i]+1)), ha='center', va='bottom')\n",
    "    \n",
    "plt.legend()\n",
    "plt.xlabel('Road Type')\n",
    "plt.ylabel('count')\n",
    "plt.savefig('../results/week1/val_acc.pdf')\n",
    "plt.show()"
   ]
  },
  {
   "cell_type": "code",
   "execution_count": 111,
   "metadata": {},
   "outputs": [
    {
     "data": {
      "image/png": "[encoded data removed]",
      "text/plain": [
       "<matplotlib.figure.Figure at 0x2b326b632828>"
      ]
     },
     "metadata": {
      "needs_background": "light"
     },
     "output_type": "display_data"
    }
   ],
   "source": [
    "y = y = [accuracy[k] for k in x]\n",
    "plt.bar(x,y)\n",
    "plt.xticks(x,x_label,rotation=40)\n",
    "plt.show()"
   ]
  },
  {
   "cell_type": "code",
   "execution_count": null,
   "metadata": {
    "collapsed": true
   },
   "outputs": [],
   "source": [
    "def model_acc_analysis(loader, model):\n",
    "    \"\"\"\n",
    "    Help function that tests the model's performance on a dataset\n",
    "    @param: loader - data loader for the dataset to test against\n",
    "    \"\"\"\n",
    "    correct = defaultdict(int)\n",
    "    fault = defaultdict(list)\n",
    "    total = defaultdict(int)\n",
    "    total_loss = defaultdict(int)\n",
    "    #criterion_test = nn.CrossEntropyLoss()\n",
    "    model.eval()\n",
    "    torch.no_grad()\n",
    "    \n",
    "    for i, (imgs, labels) in enumerate(loader):\n",
    "        imgs, labels = imgs.to(device),  labels.to(device)\n",
    "        outputs = model(imgs)\n",
    "        \n",
    "        #loss_test = float(criterion_test(outputs, labels))\n",
    "        #total_loss += loss_test       \n",
    "        outputs = F.softmax(outputs, dim=1)\n",
    "        predicted = outputs.max(1, keepdim=True)[1]\n",
    "\n",
    "        total += labels.size(0)\n",
    "        correct += predicted.eq(labels.view_as(predicted)).sum().item()\n",
    "    return (100 * correct / total), total_loss/len(loader)"
   ]
  },
  {
   "cell_type": "markdown",
   "metadata": {},
   "source": [
    "# Save works of today"
   ]
  },
  {
   "cell_type": "code",
   "execution_count": null,
   "metadata": {
    "collapsed": true
   },
   "outputs": [],
   "source": []
  }
 ],
 "metadata": {
  "kernelspec": {
   "display_name": "Python 3",
   "language": "python",
   "name": "python3"
  },
  "language_info": {
   "codemirror_mode": {
    "name": "ipython",
    "version": 3
   },
   "file_extension": ".py",
   "mimetype": "text/x-python",
   "name": "python",
   "nbconvert_exporter": "python",
   "pygments_lexer": "ipython3",
   "version": "3.6.8"
  }
 },
 "nbformat": 4,
 "nbformat_minor": 2
}
