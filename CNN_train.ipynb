{
 "cells": [
  {
   "cell_type": "markdown",
   "metadata": {},
   "source": [
    "\n"
   ]
  },
  {
   "cell_type": "code",
   "execution_count": 1,
   "metadata": {
    "collapsed": true
   },
   "outputs": [],
   "source": [
    "import sys\n",
    "sys.path.insert(0,'..')\n",
    "\n",
    "import os\n",
    "import json\n",
    "import pickle\n",
    "import requests\n",
    "import shutil\n",
    "import random\n",
    "import numpy as np\n",
    "\n",
    "from collections import defaultdict\n",
    "from scipy import ndimage\n",
    "from datetime import date\n",
    "from datetime import datetime\n",
    "\n",
    "from sklearn.metrics import confusion_matrix\n",
    "from sklearn.utils.multiclass import unique_labels\n",
    "\n",
    "import matplotlib.pyplot as plt"
   ]
  },
  {
   "cell_type": "markdown",
   "metadata": {},
   "source": [
    "## 1. Data\n",
    "\n",
    "Here we load data from pickle files:\n",
    "1. Data_train: list, 6000, contains the names of tiles that are used to train the model\n",
    "2. Data_val: list, 1500, contains the names of tiles that are used to validate the model\n",
    "3. Data_pair: dict, 7500, keys are the names of tiles, the corresponding value of each key is the roads the tile conatins\n",
    "4. dict_tile_label_true: dict, 7500, keys are the names of tiles, the corresponding value of each key is the roads the tile contains\n",
    "4. Define the folder of images"
   ]
  },
  {
   "cell_type": "code",
   "execution_count": 103,
   "metadata": {
    "collapsed": true
   },
   "outputs": [],
   "source": [
    "int2rtype = {0: '0', 1:'G', 2:'P', 3:'R', 4:'W',  5:'M'}\n",
    "dict_roadtype = {\n",
    "    \"G\": 'Municipality',\n",
    "    \"R\": 'Government',\n",
    "    \"P\": 'Province',\n",
    "    \"W\": 'Water management authorities',\n",
    "    'T': 'Other type',\n",
    "    \"M\": 'Multi types',\n",
    "    \"\": 'No road',\n",
    "    \"0\": 'No road'\n",
    "}\n",
    "upsample_scale = {0: 1, 1:1, 2:30, 3:60, 4:1, 5:1}"
   ]
  },
  {
   "cell_type": "code",
   "execution_count": 3,
   "metadata": {
    "collapsed": true
   },
   "outputs": [],
   "source": [
    "import pickle\n",
    "\n",
    "with open('../data/data_train.pkl', 'rb') as f:\n",
    "     data_train = pickle.load(f)\n",
    "        \n",
    "with open('../data/data_val.pkl', 'rb') as f:\n",
    "    data_val = pickle.load(f)\n",
    "\n",
    "with open('../data/data_pair.pkl', 'rb') as f:\n",
    "    data_pair = pickle.load(f)\n",
    "\n",
    "# with open('../data/dict_tile_label_true.pkl', 'rb') as f:\n",
    "#     data_tile_label = pickle.load(f)\n",
    "    \n",
    "FOLDER_IMG = '../datasets/image_tiles_200/'"
   ]
  },
  {
   "cell_type": "markdown",
   "metadata": {},
   "source": [
    "Upsampling R and P type images"
   ]
  },
  {
   "cell_type": "code",
   "execution_count": 4,
   "metadata": {
    "collapsed": true
   },
   "outputs": [],
   "source": [
    "def classify_roads(data, data_pair):\n",
    "    d_tile_imgs = defaultdict(list)\n",
    "    for img in data:\n",
    "        d_tile_imgs[data_pair[img]].append(img)\n",
    "    return d_tile_imgs"
   ]
  },
  {
   "cell_type": "code",
   "execution_count": 5,
   "metadata": {},
   "outputs": [
    {
     "name": "stdout",
     "output_type": "stream",
     "text": [
      "0, No road, 2044\n",
      "G, Municipality, 2544\n",
      "P, Province, 92\n",
      "R, Goverment, 53\n",
      "W, Water managerment authorities, 694\n",
      "M, Multi types, 573\n"
     ]
    }
   ],
   "source": [
    "d_tile_imgs_train = classify_roads(data_train, data_pair)\n",
    "for k in sorted(d_tile_imgs_train.keys()):\n",
    "    print('{}, {}, {}'.format(int2rtype[k], dict_roadtype[int2rtype[k]], len(d_tile_imgs_train[k])))"
   ]
  },
  {
   "cell_type": "code",
   "execution_count": 6,
   "metadata": {},
   "outputs": [
    {
     "name": "stdout",
     "output_type": "stream",
     "text": [
      "0, No road, 509\n",
      "G, Municipality, 630\n",
      "P, Province, 21\n",
      "R, Goverment, 17\n",
      "W, Water managerment authorities, 169\n",
      "M, Multi types, 154\n"
     ]
    }
   ],
   "source": [
    "d_tile_imgs_val = classify_roads(data_val, data_pair)\n",
    "for k in sorted(d_tile_imgs_val.keys()):\n",
    "    print('{}, {}, {}'.format(int2rtype[k], dict_roadtype[int2rtype[k]], len(d_tile_imgs_val[k])))"
   ]
  },
  {
   "cell_type": "code",
   "execution_count": 6,
   "metadata": {
    "collapsed": true
   },
   "outputs": [],
   "source": [
    "def upsample(d_tile_imgs, upsample_scale):\n",
    "    data = []\n",
    "    for k in d_tile_imgs.keys():\n",
    "        data += d_tile_imgs[k]*upsample_scale[k]\n",
    "    return data"
   ]
  },
  {
   "cell_type": "code",
   "execution_count": 10,
   "metadata": {},
   "outputs": [
    {
     "name": "stdout",
     "output_type": "stream",
     "text": [
      "0, No road, 2044\n",
      "G, Municipality, 2544\n",
      "P, Province, 1840\n",
      "R, Goverment, 1590\n",
      "W, Water managerment authorities, 2082\n",
      "M, Multi types, 1719\n"
     ]
    }
   ],
   "source": [
    "upsample_scale = {0: 1, 1:1, 2:20, 3:30, 4:3, 5:3}\n",
    "data_train = upsample(d_tile_imgs_train, upsample_scale)\n",
    "a = classify_roads(data_train, data_pair)\n",
    "for k in sorted(a.keys()):\n",
    "    print('{}, {}, {}'.format(int2rtype[k], dict_roadtype[int2rtype[k]], len(a[k])))"
   ]
  },
  {
   "cell_type": "markdown",
   "metadata": {},
   "source": [
    "## Create Dataset\n",
    "\n",
    "Here we define our dataset class:\n",
    "1. The inputs of the class are: image folder, data (tile names), pair (tile names: label)\n",
    "2. The class return indexed tuples: (tensor, label)\n",
    "\n"
   ]
  },
  {
   "cell_type": "code",
   "execution_count": 11,
   "metadata": {
    "collapsed": true
   },
   "outputs": [],
   "source": [
    "import torch\n",
    "from torch.utils.data import Dataset, DataLoader\n",
    "\n",
    "import torch.nn as nn\n",
    "import torch.nn.functional as F\n",
    "import torch.optim as optim\n",
    "from torch.utils.data import Dataset, DataLoader\n",
    "from torchvision import transforms, utils\n",
    "\n",
    "import random"
   ]
  },
  {
   "cell_type": "code",
   "execution_count": 12,
   "metadata": {
    "collapsed": true
   },
   "outputs": [],
   "source": [
    "class Insight_Dataset(Dataset):\n",
    "    \"\"\"\n",
    "    The size of image is (3, 256, 256)\n",
    "    \"\"\"\n",
    "    def __init__(self, img_folder, data, pair):\n",
    "        self.folder = img_folder\n",
    "        self.data = data\n",
    "        #self.keys = list(d_tile_label.keys()).sort(key=lambda x: [int(x.split('_')[0]), int(x.split('_')[1])])\n",
    "        self.pair = pair\n",
    "        self.colorjitter = transforms.ColorJitter()\n",
    "    \n",
    "    def __len__(self):\n",
    "        return len(self.data)\n",
    "    \n",
    "\n",
    "    def __getitem__(self, idx):\n",
    "        '''\n",
    "        return （image, label）\n",
    "        '''\n",
    "        tile_name = self.folder + self.data[idx]\n",
    "        img = plt.imread(tile_name)\n",
    "        label = self.pair[self.data[idx]]\n",
    "        k = random.randint(0,9)\n",
    "        if k==0:\n",
    "            img = img.transpose(1,0,2)\n",
    "        elif k==1:\n",
    "            img = img.transpose(1,0,2)\n",
    "            img = img.transpose(1,0,2)\n",
    "        elif k==2:\n",
    "            img = img.transpose(1,0,2)\n",
    "            img = img.transpose(1,0,2)\n",
    "            img = img.transpose(1,0,2)\n",
    "        else:\n",
    "            img = self.colorjitter(img)\n",
    "        return (torch.FloatTensor(img.T), label)\n"
   ]
  },
  {
   "cell_type": "markdown",
   "metadata": {},
   "source": [
    "## Design the model\n",
    "\n",
    "VGG16 except the stride size of the first layer by changing it from (1,1) to (2,2)"
   ]
  },
  {
   "cell_type": "code",
   "execution_count": 13,
   "metadata": {
    "collapsed": true
   },
   "outputs": [],
   "source": [
    "class CNN(nn.Module):\n",
    "    def __init__(self):\n",
    "        super(CNN, self).__init__()\n",
    "        \"\"\"\n",
    "        1. VGG16\n",
    "        \n",
    "        \"\"\"\n",
    "        self.conv1 = nn.Conv2d(3, 64 , (3, 3), stride=(2, 2), padding=1)\n",
    "        self.conv2 = nn.Conv2d(64, 64 , (3, 3), stride=(1, 1), padding=1)\n",
    "        \n",
    "        self.conv3 = nn.Conv2d(64, 128 , (3, 3), stride=(1, 1), padding=1)\n",
    "        self.conv4 = nn.Conv2d(128, 128 , (3, 3), stride=(1, 1), padding=1)\n",
    "        \n",
    "        self.conv5 = nn.Conv2d(128, 256 , (3, 3), stride=(1, 1), padding=1)\n",
    "        self.conv6 = nn.Conv2d(256, 256 , (3, 3), stride=(1, 1), padding=1)\n",
    "        self.conv7 = nn.Conv2d(256, 256 , (3, 3), stride=(1, 1), padding=1)\n",
    "        \n",
    "        self.conv8 = nn.Conv2d(256, 512 , (3, 3), stride=(1, 1), padding=1)\n",
    "        self.conv9 = nn.Conv2d(512, 512 , (3, 3), stride=(1, 1), padding=1)\n",
    "        self.conv10 = nn.Conv2d(512, 512 , (3, 3), stride=(1, 1), padding=1)\n",
    "        \n",
    "        self.conv11 = nn.Conv2d(512, 512 , (3, 3), stride=(1, 1), padding=1)\n",
    "        self.conv12 = nn.Conv2d(512, 512 , (3, 3), stride=(1, 1), padding=1)\n",
    "        self.conv13 = nn.Conv2d(512, 512 , (3, 3), stride=(1, 1), padding=1)\n",
    "        \n",
    "        self.relu = nn.ReLU()\n",
    "        self.maxpool = nn.MaxPool2d((2,2), stride = (2,2))\n",
    "        self.linear = nn.Linear(512*4*4, 6)\n",
    "        \n",
    "       \n",
    "        \n",
    "    def forward(self, img):\n",
    "        hidden = self.relu(self.conv1(img))\n",
    "        hidden = self.relu(self.conv2(hidden))\n",
    "        hidden = self.maxpool(hidden)\n",
    "        \n",
    "        hidden = self.relu(self.conv3(hidden))\n",
    "        hidden = self.relu(self.conv4(hidden))\n",
    "        hidden = self.maxpool(hidden)\n",
    "        \n",
    "        hidden = self.relu(self.conv5(hidden))\n",
    "        hidden = self.relu(self.conv6(hidden))\n",
    "        hidden = self.relu(self.conv7(hidden))\n",
    "        hidden = self.maxpool(hidden)\n",
    "        \n",
    "        hidden = self.relu(self.conv8(hidden))\n",
    "        hidden = self.relu(self.conv9(hidden))\n",
    "        hidden = self.relu(self.conv10(hidden))\n",
    "        hidden = self.maxpool(hidden)\n",
    "        \n",
    "        hidden = self.relu(self.conv11(hidden))\n",
    "        hidden = self.relu(self.conv12(hidden))\n",
    "        hidden = self.relu(self.conv13(hidden))\n",
    "        hidden = self.maxpool(hidden)\n",
    "        \n",
    "        out = hidden.view(hidden.size(0), -1)\n",
    "        out = self.linear(out)\n",
    "        \n",
    "        return out "
   ]
  },
  {
   "cell_type": "markdown",
   "metadata": {},
   "source": [
    "# Training the model\n",
    "\n",
    "1. Use DataLoader to batchize the train dataset\n",
    "2. Define test_model function, which evaluate model and return the accuracy and loss\n",
    "3. Build and train the CNN model: \n",
    "     1. Define the hyperparameters: learning rate, epoch numbers\n",
    "     2. Use cross entropy as the loss function\n",
    "     3. Use Adam as the optimizer\n",
    "     4. Build the model\n",
    "     5. In each epoch, evaluate the model once, and save the model with best performance\n",
    "4. Save the result: training and validation accuracy (and loss)   "
   ]
  },
  {
   "cell_type": "code",
   "execution_count": 22,
   "metadata": {
    "collapsed": true
   },
   "outputs": [],
   "source": [
    "def test_model(loader, model):\n",
    "    \"\"\"\n",
    "    Help function that tests the model's performance on a dataset\n",
    "    @param: loader - data loader for the dataset to test against\n",
    "    \"\"\"\n",
    "    correct = 0\n",
    "    total = 0\n",
    "    total_loss = 0\n",
    "    criterion_test = nn.CrossEntropyLoss()\n",
    "    model.eval()\n",
    "    torch.no_grad()\n",
    "    for (imgs, labels) in loader:\n",
    "        imgs, labels = imgs.to(device),  labels.to(device)\n",
    "        outputs = model(imgs)\n",
    "        \n",
    "        loss_test = float(criterion_test(outputs, labels))\n",
    "        total_loss += loss_test       \n",
    "        outputs = F.softmax(outputs, dim=1)\n",
    "        predicted = outputs.max(1, keepdim=True)[1]\n",
    "\n",
    "        total += labels.size(0)\n",
    "        correct += predicted.eq(labels.view_as(predicted)).sum().item()\n",
    "    return (100 * correct / total), total_loss/len(loader)"
   ]
  },
  {
   "cell_type": "code",
   "execution_count": 14,
   "metadata": {
    "collapsed": true
   },
   "outputs": [],
   "source": [
    "BATCH_SIZE = 32\n",
    "VALIDATE_STEP = 180\n",
    "\n",
    "model_name = '../models/VGG16_week3_upsample.pt'\n",
    "result_FILE = '../results/VGG16_week3_upsample.pkl'\n",
    "\n",
    "learning_rate = 1e-5*2\n",
    "num_epochs = 20 # number epoch to train\n",
    "\n",
    "device = torch.device('cuda:0' if torch.cuda.is_available() else 'cpu')"
   ]
  },
  {
   "cell_type": "code",
   "execution_count": 50,
   "metadata": {},
   "outputs": [
    {
     "name": "stdout",
     "output_type": "stream",
     "text": [
      "0, No road, 2044\n",
      "G, Municipality, 2544\n",
      "P, Province, 2760\n",
      "R, Goverment, 1590\n",
      "W, Water managerment authorities, 2082\n",
      "M, Multi types, 573\n"
     ]
    }
   ],
   "source": [
    "upsample_scale = {0: 1, 1:1, 2:30, 3:30, 4:3, 5:1}\n",
    "WEIGHT = [1, 1, 2, 2, 1, 1]\n",
    "\n",
    "data_train = upsample(d_tile_imgs_train, upsample_scale)\n",
    "a = classify_roads(data_train, data_pair)\n",
    "for k in sorted(a.keys()):\n",
    "    print('{}, {}, {}'.format(int2rtype[k], dict_roadtype[int2rtype[k]], len(a[k])))\n",
    "    \n",
    "train_data = Insight_Dataset(FOLDER_IMG, data_train, data_pair)\n",
    "train_loader = torch.utils.data.DataLoader(dataset=train_data,\n",
    "                                           batch_size=BATCH_SIZE,\n",
    "                                           shuffle=True)\n",
    "val_data = Insight_Dataset(FOLDER_IMG, data_val, data_pair)\n",
    "val_loader = torch.utils.data.DataLoader(dataset=val_data,\n",
    "                                        batch_size = BATCH_SIZE,\n",
    "                                        shuffle = True)"
   ]
  },
  {
   "cell_type": "code",
   "execution_count": 51,
   "metadata": {},
   "outputs": [
    {
     "data": {
      "text/plain": [
       "362"
      ]
     },
     "execution_count": 51,
     "metadata": {},
     "output_type": "execute_result"
    }
   ],
   "source": [
    "len(train_data)//BATCH_SIZE"
   ]
  },
  {
   "cell_type": "code",
   "execution_count": 52,
   "metadata": {},
   "outputs": [
    {
     "data": {
      "text/plain": [
       "CNN(\n",
       "  (conv1): Conv2d(3, 64, kernel_size=(3, 3), stride=(2, 2), padding=(1, 1))\n",
       "  (conv2): Conv2d(64, 64, kernel_size=(3, 3), stride=(1, 1), padding=(1, 1))\n",
       "  (conv3): Conv2d(64, 128, kernel_size=(3, 3), stride=(1, 1), padding=(1, 1))\n",
       "  (conv4): Conv2d(128, 128, kernel_size=(3, 3), stride=(1, 1), padding=(1, 1))\n",
       "  (conv5): Conv2d(128, 256, kernel_size=(3, 3), stride=(1, 1), padding=(1, 1))\n",
       "  (conv6): Conv2d(256, 256, kernel_size=(3, 3), stride=(1, 1), padding=(1, 1))\n",
       "  (conv7): Conv2d(256, 256, kernel_size=(3, 3), stride=(1, 1), padding=(1, 1))\n",
       "  (conv8): Conv2d(256, 512, kernel_size=(3, 3), stride=(1, 1), padding=(1, 1))\n",
       "  (conv9): Conv2d(512, 512, kernel_size=(3, 3), stride=(1, 1), padding=(1, 1))\n",
       "  (conv10): Conv2d(512, 512, kernel_size=(3, 3), stride=(1, 1), padding=(1, 1))\n",
       "  (conv11): Conv2d(512, 512, kernel_size=(3, 3), stride=(1, 1), padding=(1, 1))\n",
       "  (conv12): Conv2d(512, 512, kernel_size=(3, 3), stride=(1, 1), padding=(1, 1))\n",
       "  (conv13): Conv2d(512, 512, kernel_size=(3, 3), stride=(1, 1), padding=(1, 1))\n",
       "  (relu): ReLU()\n",
       "  (maxpool): MaxPool2d(kernel_size=(2, 2), stride=(2, 2), padding=0, dilation=1, ceil_mode=False)\n",
       "  (linear): Linear(in_features=8192, out_features=6, bias=True)\n",
       ")"
      ]
     },
     "execution_count": 52,
     "metadata": {},
     "output_type": "execute_result"
    }
   ],
   "source": [
    "model = CNN().to(device)\n",
    "model"
   ]
  },
  {
   "cell_type": "code",
   "execution_count": 54,
   "metadata": {},
   "outputs": [
    {
     "name": "stdout",
     "output_type": "stream",
     "text": [
      "Epoch: [1/20], Step: [181/363], Train Loss: 1.7398241140954094, Train Acc: 23.807470025015096, Val Acc: 1.4\n",
      "Epoch: [1/20], Step: [361/363], Train Loss: 1.7433574564200787, Train Acc: 23.807470025015096, Val Acc: 1.4\n",
      "Epoch: [2/20], Step: [181/363], Train Loss: 1.4920687544115976, Train Acc: 39.26507375140171, Val Acc: 25.933333333333334\n",
      "Epoch: [2/20], Step: [361/363], Train Loss: 1.328403784880625, Train Acc: 46.45044423358924, Val Acc: 32.266666666666666\n",
      "Epoch: [3/20], Step: [181/363], Train Loss: 1.2404035390572772, Train Acc: 54.757181057534716, Val Acc: 44.8\n",
      "Epoch: [3/20], Step: [361/363], Train Loss: 1.1925149474590606, Train Acc: 56.784266367635645, Val Acc: 47.6\n",
      "Epoch: [4/20], Step: [181/363], Train Loss: 1.0633354054009618, Train Acc: 60.88156646252049, Val Acc: 48.333333333333336\n",
      "Epoch: [4/20], Step: [361/363], Train Loss: 1.0075252757256352, Train Acc: 62.95178124730441, Val Acc: 54.333333333333336\n",
      "Epoch: [5/20], Step: [181/363], Train Loss: 0.934266831264023, Train Acc: 65.66031225739671, Val Acc: 54.53333333333333\n",
      "Epoch: [5/20], Step: [361/363], Train Loss: 0.8384738578448282, Train Acc: 69.54196497886656, Val Acc: 56.46666666666667\n",
      "Epoch: [6/20], Step: [181/363], Train Loss: 0.7604841609631688, Train Acc: 71.1550073320107, Val Acc: 58.53333333333333\n",
      "Epoch: [6/20], Step: [361/363], Train Loss: 0.6536248460124675, Train Acc: 76.17527818511171, Val Acc: 56.46666666666667\n",
      "Epoch: [7/20], Step: [181/363], Train Loss: 0.6234548956812578, Train Acc: 77.22763736737687, Val Acc: 60.666666666666664\n",
      "Epoch: [7/20], Step: [361/363], Train Loss: 0.619054010994835, Train Acc: 76.52031398257569, Val Acc: 62.8\n",
      "Epoch: [8/20], Step: [181/363], Train Loss: 0.50426609785432, Train Acc: 81.05753471922712, Val Acc: 59.13333333333333\n",
      "Epoch: [8/20], Step: [361/363], Train Loss: 0.5597160949933627, Train Acc: 79.60838436987838, Val Acc: 58.2\n",
      "Epoch: [9/20], Step: [181/363], Train Loss: 0.5101279773988014, Train Acc: 81.18692314327612, Val Acc: 60.86666666666667\n",
      "Epoch: [9/20], Step: [361/363], Train Loss: 0.4365442072967524, Train Acc: 83.61942551539723, Val Acc: 62.13333333333333\n",
      "Epoch: [10/20], Step: [181/363], Train Loss: 0.40081606261411645, Train Acc: 85.22384197360476, Val Acc: 63.53333333333333\n",
      "Epoch: [10/20], Step: [361/363], Train Loss: 0.39603432389001875, Train Acc: 85.12895712930217, Val Acc: 65.93333333333334\n",
      "Epoch: [11/20], Step: [181/363], Train Loss: 0.374254401968202, Train Acc: 86.08643146726473, Val Acc: 62.13333333333333\n",
      "Epoch: [11/20], Step: [361/363], Train Loss: 0.3639387290709275, Train Acc: 86.7419994824463, Val Acc: 64.6\n",
      "Epoch: [12/20], Step: [181/363], Train Loss: 0.3364833804981439, Train Acc: 87.93237298369706, Val Acc: 63.6\n",
      "Epoch: [12/20], Step: [361/363], Train Loss: 0.37253053082004395, Train Acc: 85.77589924954714, Val Acc: 63.0\n",
      "Epoch: [13/20], Step: [181/363], Train Loss: 0.35849340500171517, Train Acc: 87.1215388596567, Val Acc: 61.2\n",
      "Epoch: [13/20], Step: [361/363], Train Loss: 0.42480427225841305, Train Acc: 83.76606572931942, Val Acc: 60.13333333333333\n",
      "Epoch: [14/20], Step: [181/363], Train Loss: 0.2797088105405986, Train Acc: 90.32174588113517, Val Acc: 64.86666666666666\n",
      "Epoch: [14/20], Step: [361/363], Train Loss: 0.33319146970168945, Train Acc: 88.01863193306305, Val Acc: 65.6\n",
      "Epoch: [15/20], Step: [181/363], Train Loss: 0.24663082974098274, Train Acc: 91.69326317605451, Val Acc: 64.06666666666666\n",
      "Epoch: [15/20], Step: [361/363], Train Loss: 0.29226785456920784, Train Acc: 89.76106271025618, Val Acc: 65.6\n",
      "Epoch: [16/20], Step: [181/363], Train Loss: 0.2527238214311521, Train Acc: 90.81342189252135, Val Acc: 63.6\n",
      "Epoch: [16/20], Step: [361/363], Train Loss: 0.23409513799735338, Train Acc: 91.88303286465971, Val Acc: 64.06666666666666\n",
      "Epoch: [17/20], Step: [181/363], Train Loss: 0.2553208659790436, Train Acc: 90.33037177607177, Val Acc: 57.2\n",
      "Epoch: [17/20], Step: [361/363], Train Loss: 0.25668170643821564, Train Acc: 90.91693263176055, Val Acc: 57.46666666666667\n",
      "Epoch: [18/20], Step: [181/363], Train Loss: 0.28470321625635314, Train Acc: 89.25213490899681, Val Acc: 56.06666666666667\n",
      "Epoch: [18/20], Step: [361/363], Train Loss: 0.20812481023966445, Train Acc: 93.23729836970585, Val Acc: 62.46666666666667\n",
      "Epoch: [19/20], Step: [181/363], Train Loss: 0.1867506922358652, Train Acc: 93.72897438109204, Val Acc: 61.53333333333333\n",
      "Epoch: [19/20], Step: [361/363], Train Loss: 0.22459203659585028, Train Acc: 92.15906150263089, Val Acc: 60.46666666666667\n",
      "Epoch: [20/20], Step: [181/363], Train Loss: 0.19251325958441767, Train Acc: 93.57370827223325, Val Acc: 61.0\n",
      "Epoch: [20/20], Step: [361/363], Train Loss: 0.1748338331655694, Train Acc: 94.36729060640042, Val Acc: 61.13333333333333\n"
     ]
    }
   ],
   "source": [
    "best_val_acc = 0\n",
    "\n",
    "# Criterion and Optimizer\n",
    "criterion = torch.nn.CrossEntropyLoss(torch.FloatTensor(WEIGHT).to(device))\n",
    "optimizer = torch.optim.Adam(model.parameters(), lr=learning_rate)\n",
    "\n",
    "val_acc_record = []\n",
    "train_acc_record = []\n",
    "val_loss_record = []\n",
    "train_loss_record = []\n",
    "step_record = []\n",
    "\n",
    "# Train the model\n",
    "total_step = len(train_loader)\n",
    "\n",
    "for epoch in range(num_epochs):\n",
    "    for i, (imgs, labels) in enumerate(train_loader):\n",
    "        model.train()\n",
    "        optimizer.zero_grad()\n",
    "        # Forward pass\n",
    "        outputs = model(imgs.to(device))\n",
    "        loss = criterion(outputs, labels.to(device))\n",
    "\n",
    "        # Backward and optimize\n",
    "        loss.backward()\n",
    "        optimizer.step()\n",
    "        # validate every 100 iterations\n",
    "        if i >0 and i % VALIDATE_STEP == 0:\n",
    "            # validate\n",
    "            val_acc, val_loss = test_model(val_loader, model)\n",
    "            val_acc_record.append(val_acc)\n",
    "            val_loss_record.append(val_loss)\n",
    "            train_acc, train_loss = test_model(train_loader, model)\n",
    "            train_acc_record.append(train_acc)\n",
    "            train_loss_record.append(train_loss)\n",
    "            step_record.append(i + epoch*total_step)\n",
    "            print('Epoch: [{}/{}], Step: [{}/{}], Train Loss: {}, Train Acc: {}, Val Acc: {}'.format(\n",
    "                       epoch+1, num_epochs, i+1, len(train_loader), train_loss, train_acc, val_acc))\n",
    "#             print('Epoch: [{}/{}], Step: [{}/{}], Val Acc: {}'.format(\n",
    "#                        epoch+1, num_epochs, i+1, len(train_loader), val_acc))\n",
    "            if val_acc > best_val_acc:\n",
    "                with open(model_name, 'wb') as f:\n",
    "                    torch.save(model, f)\n",
    "                    best_val_loss = val_loss\n",
    "\n",
    "# training_curve = zip(step_record, train_acc_record, train_loss_record, val_acc_record, val_loss_record)\n",
    "# pkl.dump(training_curve, open(result_FILE, \"wb\"))"
   ]
  },
  {
   "cell_type": "code",
   "execution_count": 118,
   "metadata": {
    "collapsed": true
   },
   "outputs": [],
   "source": [
    "training_curve = zip(step_record, train_acc_record, train_loss_record, val_acc_record, val_loss_record)\n",
    "pickle.dump(training_curve, open(result_FILE, \"wb\"))"
   ]
  },
  {
   "cell_type": "code",
   "execution_count": 120,
   "metadata": {},
   "outputs": [
    {
     "data": {
      "image/png": "[encoded data removed]",
      "text/plain": [
       "<matplotlib.figure.Figure at 0x2b1b98ea1f98>"
      ]
     },
     "metadata": {
      "needs_background": "light"
     },
     "output_type": "display_data"
    },
    {
     "data": {
      "image/png": "[encoded data removed]",
      "text/plain": [
       "<matplotlib.figure.Figure at 0x2b1b99482f28>"
      ]
     },
     "metadata": {
      "needs_background": "light"
     },
     "output_type": "display_data"
    }
   ],
   "source": [
    "x = [k/2 for k in range(len(train_acc_record))]\n",
    "x_in = [2*k for k in range(11)]\n",
    "\n",
    "plt.plot(x, train_acc_record, label = 'train')\n",
    "plt.plot(x, val_acc_record_up, label = 'validation')\n",
    "plt.xticks(x_in)\n",
    "plt.legend()\n",
    "plt.xlabel('epoch')\n",
    "plt.ylabel('accuracy (%)')\n",
    "plt.title('Accuracy vs Epoch')\n",
    "plt.savefig('../results/week2/accuracy_curve_upsampling.jpg')\n",
    "plt.show()\n",
    "\n",
    "plt.plot(x, train_loss_record, label = 'train')\n",
    "plt.plot(x, val_loss_record_up, label = 'validation')\n",
    "plt.xticks(x_in)\n",
    "plt.legend()\n",
    "plt.xlabel('epoch')\n",
    "plt.ylabel('cross entropy loss')\n",
    "plt.title('Loss vs Epoch')\n",
    "plt.savefig('../results/week2/loss_curve_upsampling.jpg')\n",
    "plt.show()"
   ]
  },
  {
   "cell_type": "markdown",
   "metadata": {},
   "source": [
    "# Analyze Result"
   ]
  },
  {
   "cell_type": "code",
   "execution_count": 57,
   "metadata": {
    "collapsed": true
   },
   "outputs": [],
   "source": [
    "val_data = Insight_Dataset(FOLDER_IMG, data_val, data_pair)\n",
    "val_loader = torch.utils.data.DataLoader(dataset=val_data,\n",
    "                                        batch_size = 1,\n",
    "                                        shuffle = False)"
   ]
  },
  {
   "cell_type": "code",
   "execution_count": 58,
   "metadata": {
    "collapsed": true
   },
   "outputs": [],
   "source": [
    "#model = torch.load('../models/VGG16.pt')\n",
    "model =  torch.load('../models/VGG16_week3_upsample.pt')"
   ]
  },
  {
   "cell_type": "code",
   "execution_count": 59,
   "metadata": {
    "collapsed": true
   },
   "outputs": [],
   "source": [
    "correct = defaultdict(int)\n",
    "fault = defaultdict(list)\n",
    "total = defaultdict(int)\n",
    "total_loss = defaultdict(int)\n",
    "\n",
    "model.eval()\n",
    "torch.no_grad()\n",
    "\n",
    "true_label = []\n",
    "pre_label = []\n",
    "\n",
    "for i, (img, label) in enumerate(val_loader):\n",
    "    img = img.to(device)\n",
    "    outputs = model(img)\n",
    "\n",
    "    #loss_test = float(criterion_test(outputs, labels))\n",
    "    #total_loss += loss_test       \n",
    "    outputs = F.softmax(outputs, dim=1)\n",
    "    predicted = outputs.max(1, keepdim=True)[1]\n",
    "    pred = np.asarray(predicted)[0][0]\n",
    "    label = np.asarray(label)[0]\n",
    "    true_label.append(label)\n",
    "    pre_label.append(pred)\n",
    "    if pred==label:\n",
    "        correct[label] += 1\n",
    "    else:\n",
    "        fault[label].append([i, pred])\n",
    "    total[label]+= 1\n",
    "\n",
    "    #total += labels.size(0)\n",
    "    #correct += predicted.eq(labels.view_as(predicted)).sum().item()"
   ]
  },
  {
   "cell_type": "code",
   "execution_count": 60,
   "metadata": {},
   "outputs": [
    {
     "data": {
      "text/plain": [
       "defaultdict(float,\n",
       "            {1: 0.7841269841269841,\n",
       "             4: 0.4260355029585799,\n",
       "             0: 0.6110019646365422,\n",
       "             5: 0.24025974025974026,\n",
       "             3: 0.11764705882352941,\n",
       "             2: 0.5238095238095238})"
      ]
     },
     "execution_count": 60,
     "metadata": {},
     "output_type": "execute_result"
    }
   ],
   "source": [
    "accuracy = defaultdict(float)\n",
    "for k in total.keys():\n",
    "    accuracy[k] = correct[k]/total[k]\n",
    "accuracy"
   ]
  },
  {
   "cell_type": "code",
   "execution_count": 104,
   "metadata": {
    "collapsed": true
   },
   "outputs": [],
   "source": [
    "int2rtype = {0: '0', 1:'G', 2:'P', 3:'R', 4:'W',  5:'M'}\n",
    "dict_roadtype = {\n",
    "    \"G\": 'Municipality',\n",
    "    \"R\": 'Government',\n",
    "    \"P\": 'Province',\n",
    "    \"W\": 'Water management authorities',\n",
    "    'T': 'Other type',\n",
    "    \"M\": 'Multi types',\n",
    "    \"\": 'No road',\n",
    "    \"0\": 'No road'\n",
    "}"
   ]
  },
  {
   "cell_type": "code",
   "execution_count": 105,
   "metadata": {},
   "outputs": [
    {
     "data": {
      "image/png": "[encoded data removed]",
      "text/plain": [
       "<matplotlib.figure.Figure at 0x2b1b99832b70>"
      ]
     },
     "metadata": {
      "needs_background": "light"
     },
     "output_type": "display_data"
    }
   ],
   "source": [
    "#int2rtype = {0: '0', 1:'G', 2:'P', 3:'R', 4:'W', 5:'T', 6:'M'}\n",
    "x = sorted(list(int2rtype.keys()))\n",
    "total_cnt = [total[k] for k in x]\n",
    "correct_cnt = [correct[k] for k in x]\n",
    "x_label = [int2rtype[k] for k in x]\n",
    "x_label1 = [dict_roadtype[k] for k in x_label]\n",
    "\n",
    "ax = plt.subplot(111)\n",
    "#bar = ax.bar(x, total_cnt, width=0.6, color='r', align='center', label = 'Incorrect')\n",
    "ax.barh(x, total_cnt, color='r', align='center', label = 'Incorrect')\n",
    "ax.barh(x, correct_cnt, color='g', align='center', label = 'Correct')\n",
    "#ax.bar(x+0.2, k, width=0.2, color='r', align='center')\n",
    "\n",
    "# plt.bar(x, y2)\n",
    "# plt.bar(x, y)\n",
    "#plt.xticks(x,x_label,rotation=40)\n",
    "plt.yticks(x,x_label1,rotation=0)\n",
    "x_in = [100*k for k in range(8)]\n",
    "plt.xticks(x_in)\n",
    "\n",
    "for i, v in enumerate(total_cnt):\n",
    "    ax.text(v + 3, i, '{:.1f}%'.format(100*correct_cnt[i]/(total_cnt[i]+1)), va='center')\n",
    "# for i, rect in enumerate(bar):\n",
    "#     height = rect.get_height()\n",
    "#     plt.text(rect.get_x() + rect.get_width()/2.0, height, '{:.1f}%'.format(100*correct_cnt[i]/(total_cnt[i]+1)), ha='center', va='bottom')\n",
    "    \n",
    "plt.legend()\n",
    "# plt.xlabel('Road Type')\n",
    "# plt.ylabel('count')\n",
    "plt.title('Validation Accuracy')\n",
    "plt.savefig('../results/week2/val_acc_upsampling.jpg', dpi=500, bbox_inches = \"tight\")\n",
    "plt.show()"
   ]
  },
  {
   "cell_type": "code",
   "execution_count": 101,
   "metadata": {
    "collapsed": true
   },
   "outputs": [],
   "source": [
    "def plot_confusion_matrix(y_true, y_pred, classes,\n",
    "                          normalize=False,\n",
    "                          title=None,\n",
    "                          cmap=plt.cm.Blues):\n",
    "    \"\"\"\n",
    "    This function prints and plots the confusion matrix.\n",
    "    Normalization can be applied by setting `normalize=True`.\n",
    "    \"\"\"\n",
    "    if not title:\n",
    "        if normalize:\n",
    "            title = 'Normalized confusion matrix'\n",
    "        else:\n",
    "            title = 'Confusion matrix, without normalization'\n",
    "\n",
    "    # Compute confusion matrix\n",
    "    cm = confusion_matrix(y_true, y_pred)\n",
    "    # Only use the labels that appear in the data\n",
    "    #classes = classes[unique_labels(y_true, y_pred)]\n",
    "    if normalize:\n",
    "        cm = cm.astype('float') / cm.sum(axis=1)[:, np.newaxis]\n",
    "        print(\"Normalized confusion matrix\")\n",
    "    else:\n",
    "        print('Confusion matrix, without normalization')\n",
    "\n",
    "    print(cm)\n",
    "    \n",
    "    fig, ax = plt.subplots()\n",
    "    plt.figure(figsize=(150,150))\n",
    "    im = ax.imshow(cm, interpolation='nearest', cmap=cmap)\n",
    "    ax.figure.colorbar(im, ax=ax)\n",
    "    # We want to show all ticks...\n",
    "    ax.set(xticks=np.arange(cm.shape[1]),\n",
    "           yticks=np.arange(cm.shape[0]),\n",
    "           # ... and label them with the respective list entries\n",
    "           xticklabels=classes, yticklabels=classes,\n",
    "           title=title,\n",
    "           ylabel='True label',\n",
    "           xlabel='Predicted label')\n",
    "\n",
    "    # Rotate the tick labels and set their alignment.\n",
    "    plt.setp(ax.get_xticklabels(), rotation=30, ha=\"right\",\n",
    "             rotation_mode=\"anchor\")\n",
    "\n",
    "    # Loop over data dimensions and create text annotations.\n",
    "    fmt = '.2f' if normalize else 'd'\n",
    "    thresh = cm.max() / 2.\n",
    "    for i in range(cm.shape[0]):\n",
    "        for j in range(cm.shape[1]):\n",
    "            ax.text(j, i, format(cm[i, j], fmt),\n",
    "                    ha=\"center\", va=\"center\",\n",
    "                    color=\"white\" if cm[i, j] > thresh else \"black\")\n",
    "    fig.tight_layout()\n",
    "    if normalize:\n",
    "        fig.savefig('../results/week2/VGG16_confusion_matrix_wn_upsample.jpg', dpi=300, bbox_inches = \"tight\")\n",
    "    else:\n",
    "        fig.savefig('../results/week2/VGG16_confusion_matrix_upsample.jpg', dpi=300, bbox_inches = \"tight\")\n",
    "    plt.show()\n",
    "    return ax"
   ]
  },
  {
   "cell_type": "code",
   "execution_count": 106,
   "metadata": {},
   "outputs": [
    {
     "name": "stdout",
     "output_type": "stream",
     "text": [
      "Normalized confusion matrix\n",
      "[[ 0.74066798  0.08840864  0.00392927  0.          0.1453831   0.021611  ]\n",
      " [ 0.03968254  0.85873016  0.00634921  0.          0.03650794  0.05873016]\n",
      " [ 0.0952381   0.14285714  0.52380952  0.          0.19047619  0.04761905]\n",
      " [ 0.          0.64705882  0.          0.11764706  0.          0.23529412]\n",
      " [ 0.26627219  0.20710059  0.01775148  0.00591716  0.4260355   0.07692308]\n",
      " [ 0.02597403  0.56493506  0.03246753  0.00649351  0.12987013  0.24025974]]\n"
     ]
    },
    {
     "data": {
      "image/png": "[encoded data removed]",
      "text/plain": [
       "<matplotlib.figure.Figure at 0x2b1b9978de48>"
      ]
     },
     "metadata": {
      "needs_background": "light"
     },
     "output_type": "display_data"
    },
    {
     "data": {
      "text/plain": [
       "<matplotlib.figure.Figure at 0x2b1b996cd828>"
      ]
     },
     "metadata": {},
     "output_type": "display_data"
    }
   ],
   "source": [
    "plot_confusion_matrix(true_label, pre_label, classes=x_label1, normalize=True)\n",
    "plt.show()"
   ]
  }
 ],
 "metadata": {
  "kernelspec": {
   "display_name": "Python 3",
   "language": "python",
   "name": "python3"
  },
  "language_info": {
   "codemirror_mode": {
    "name": "ipython",
    "version": 3
   },
   "file_extension": ".py",
   "mimetype": "text/x-python",
   "name": "python",
   "nbconvert_exporter": "python",
   "pygments_lexer": "ipython3",
   "version": "3.6.8"
  }
 },
 "nbformat": 4,
 "nbformat_minor": 2
}
