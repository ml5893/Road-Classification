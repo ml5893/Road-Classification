{
 "cells": [
  {
   "cell_type": "markdown",
   "metadata": {},
   "source": [
    "# Data exploration and preprocessing"
   ]
  },
  {
   "cell_type": "markdown",
   "metadata": {},
   "source": [
    "This file aims to explore the image data. This project will use two kinds of data, satellite image tiles and a file describe them. The data is download from the **the tiles** and **my dropbox** links in http://ataspinar.com/2017/12/04/using-convolutional-neural-networks-to-detect-features-in-sattelite-images/ respectively.\n",
    "\n",
    "The images are stored in FOLDER_IMG. The images are contiguous tiles of satellite imagery of the Netherlands. An image is named by its coordinates. For example, the four coordinates of the image \"100400_429200_100600_429400.jpg\" are $(100400, 429200)$, $(100600, 429200)$, $(100600, 429400)$, $(100400, 429400)$. The all images cover the block in $(95000, 42700)$, $(110000, 447000)$.\n",
    "\n",
    "There are 4 types of roads, municipality, province, government, water management authorities. The images are labeled with 6 labels: no road, municipality, province, government, water management authorities, multiple types. The data provided is very imbalanced. To tackle this problem, the minority classes are augmented by rotation and changing color gitter."
   ]
  },
  {
   "cell_type": "markdown",
   "metadata": {},
   "source": [
    "## 1. Data\n",
    "\n",
    "Use the .json file"
   ]
  },
  {
   "cell_type": "code",
   "execution_count": 1,
   "metadata": {
    "collapsed": true
   },
   "outputs": [],
   "source": [
    "import sys\n",
    "sys.path.insert(0,'..')\n",
    "\n",
    "import os\n",
    "import json\n",
    "import pickle\n",
    "import requests\n",
    "import shutil\n",
    "import random\n",
    "import numpy as np\n",
    "\n",
    "from collections import defaultdict\n",
    "from scipy import ndimage\n",
    "from datetime import date\n",
    "from datetime import datetime\n",
    "\n",
    "from sklearn.metrics import confusion_matrix\n",
    "from sklearn.utils.multiclass import unique_labels\n",
    "\n",
    "import matplotlib.pyplot as plt"
   ]
  },
  {
   "cell_type": "markdown",
   "metadata": {},
   "source": [
    "Explore the description dataset"
   ]
  },
  {
   "cell_type": "code",
   "execution_count": 2,
   "metadata": {
    "collapsed": true
   },
   "outputs": [],
   "source": [
    "filename_wegvakken = \"../data/nwb_wegvakken/2017_09_wegvakken.json\"\n",
    "dict_wegvakken = json.load(open(filename_wegvakken))['features']"
   ]
  },
  {
   "cell_type": "code",
   "execution_count": 13,
   "metadata": {
    "collapsed": true
   },
   "outputs": [],
   "source": [
    "dict_roadtype = {\n",
    "    \"G\": 'Municipality',\n",
    "    \"R\": 'Government',\n",
    "    \"P\": 'Province',\n",
    "    \"W\": 'Water management authorities',\n",
    "    'T': 'Other type',\n",
    "    \"M\": 'Multi types',\n",
    "    \"\": 'No road',\n",
    "    \"0\": 'No road'\n",
    "}\n",
    "\n",
    "PROPERTIES_KEY = 'properties'\n",
    "ROAD_TYPE_KEY = 'WEGBEHSRT'\n",
    "GEOMETRY_KEY = 'geometry'\n",
    "COORDINATES_KEY = 'coordinates'\n",
    "\n",
    "POINTS_PER_METER = 0.1\n",
    "dx = 200\n",
    "dy = 200\n",
    "\n",
    "x_min = 95000\n",
    "y_min = 427000\n",
    "x_max = 110000\n",
    "y_max = 447000\n",
    "bounding_box = [x_min, y_min, x_max, y_max]\n",
    "\n",
    "FOLDER_IMG = '../datasets/image_tiles_200/'"
   ]
  },
  {
   "cell_type": "markdown",
   "metadata": {},
   "source": [
    "### Data Labeling\n",
    "\n",
    "There are 4 types of roads, _municipality, province, government, water management authorities._\n",
    "\n",
    "The dictionary file gives the road type information for some points. For any given coordinates, if they're in a tile, or any lines between some them cut through some tiles, then those tiles are label by the type of road.\n",
    "\n",
    "Here we create two dictionaries, whose keys are the name of images and values are the roads in the image, one stores the true label of each image, one stores the merged label of each image (if a image contains more than one type of roads, its label is multi roads)."
   ]
  },
  {
   "cell_type": "code",
   "execution_count": 4,
   "metadata": {
    "collapsed": true
   },
   "outputs": [],
   "source": [
    "def add_to_dict(d1, d2, d3, coordinates, rtype):\n",
    "    \"\"\"\n",
    "    d1: dict_tile_contents, tile: road segmentation\n",
    "    d2: dict_rtype_tile, road type: tiles\n",
    "    d3: dict_tile_rtype, tile: road type\n",
    "    \"\"\"\n",
    "    coordinate_ll_x = int((coordinates[0] // dx)*dx)\n",
    "    coordinate_ll_y = int((coordinates[1] // dy)*dy)\n",
    "    coordinate_ur_x = int((coordinates[0] // dx)*dx + dx)\n",
    "    coordinate_ur_y = int((coordinates[1] // dy)*dy + dy)\n",
    "    tile = \"{}_{}_{}_{}.jpg\".format(coordinate_ll_x, coordinate_ll_y, coordinate_ur_x, coordinate_ur_y)\n",
    "    \n",
    "    rel_coord_x = (coordinates[0] - coordinate_ll_x) / dx\n",
    "    rel_coord_y = (coordinates[1] - coordinate_ll_y) / dy\n",
    "    value = (rtype, rel_coord_x, rel_coord_y)\n",
    "    d1[tile].append(value)\n",
    "    d2[rtype].add(tile)\n",
    "    d3[tile].add(rtype)\n",
    "\n",
    "def coord_is_in_bb(coord, bb):\n",
    "    \"\"\"Check whether the coordinate is in the bounding box\"\"\"\n",
    "    x_min = bb[0]\n",
    "    y_min = bb[1]\n",
    "    x_max = bb[2]\n",
    "    y_max = bb[3]\n",
    "    return coord[0] > x_min and coord[0] < x_max and coord[1] > y_min and coord[1] < y_max\n",
    "\n",
    "def retrieve_roadtype(elem):\n",
    "    return elem[PROPERTIES_KEY][ROAD_TYPE_KEY]\n",
    "   \n",
    "def retrieve_coordinates(elem):\n",
    "    return elem[GEOMETRY_KEY][COORDINATES_KEY]\n",
    "\n",
    "def eucledian_distance(p1, p2):\n",
    "    diff = np.array(p2)-np.array(p1)\n",
    "    return np.linalg.norm(diff)\n",
    "\n",
    "def calculate_intermediate_points(p1, p2, no_points):\n",
    "    dx = (p2[0] - p1[0]) / (no_points + 1)\n",
    "    dy = (p2[1] - p1[1]) / (no_points + 1)\n",
    "    return [[p1[0] + i * dx, p1[1] +  i * dy] for i in range(1, no_points+1)]"
   ]
  },
  {
   "cell_type": "code",
   "execution_count": 5,
   "metadata": {
    "collapsed": true
   },
   "outputs": [],
   "source": [
    "d_tile_contents = defaultdict(list)\n",
    "d_roadtype_tiles = defaultdict(set)\n",
    "d_tile_rtype = defaultdict(set)\n",
    "\n",
    "for elem in dict_wegvakken:\n",
    "    coordinates = retrieve_coordinates(elem)\n",
    "    rtype = retrieve_roadtype(elem)\n",
    "    coordinates_in_bb = [coord for coord in coordinates if coord_is_in_bb(coord, bounding_box)]\n",
    "    #coordinates_in_bb = [coord for coord in coordinates if coord_is_in_bb(coord, small_box)]\n",
    "    if len(coordinates_in_bb)==1:\n",
    "        coord = coordinates_in_bb[0]\n",
    "        add_to_dict(d_tile_contents, d_roadtype_tiles, d_tile_rtype, coord, rtype)\n",
    "    if len(coordinates_in_bb)>1:\n",
    "        add_to_dict(d_tile_contents, d_roadtype_tiles, d_tile_rtype, coordinates_in_bb[0], rtype)\n",
    "        for ii in range(1,len(coordinates_in_bb)):\n",
    "            previous_coord = coordinates_in_bb[ii-1]\n",
    "            coord = coordinates_in_bb[ii]\n",
    "            add_to_dict(d_tile_contents, d_roadtype_tiles, d_tile_rtype,coord, rtype)\n",
    "            \n",
    "            dist = eucledian_distance(previous_coord, coord)\n",
    "            no_intermediate_points = int(dist*POINTS_PER_METER)           \n",
    "            intermediate_coordinates = calculate_intermediate_points(previous_coord, coord, no_intermediate_points)\n",
    "            for intermediate_coord in intermediate_coordinates:\n",
    "                add_to_dict(d_tile_contents, d_roadtype_tiles, d_tile_rtype, intermediate_coord, rtype)"
   ]
  },
  {
   "cell_type": "code",
   "execution_count": 6,
   "metadata": {},
   "outputs": [
    {
     "name": "stdout",
     "output_type": "stream",
     "text": [
      "4947 tiles contain roads.\n"
     ]
    }
   ],
   "source": [
    "print(\"{} tiles contain roads.\".format(len(d_tile_contents)))"
   ]
  },
  {
   "cell_type": "markdown",
   "metadata": {},
   "source": [
    "Here we start to label the all images."
   ]
  },
  {
   "cell_type": "code",
   "execution_count": 7,
   "metadata": {
    "collapsed": true
   },
   "outputs": [],
   "source": [
    "data_img = os.listdir(FOLDER_IMG)"
   ]
  },
  {
   "cell_type": "code",
   "execution_count": 8,
   "metadata": {
    "collapsed": true
   },
   "outputs": [],
   "source": [
    "d_tile_label = defaultdict(str)\n",
    "for img in data_img:\n",
    "    tmp_road = ''\n",
    "    for r in list(d_tile_rtype[img]):\n",
    "        tmp_road += '-'+r\n",
    "    d_tile_label[img] = tmp_road[1:]"
   ]
  },
  {
   "cell_type": "code",
   "execution_count": 9,
   "metadata": {
    "collapsed": true
   },
   "outputs": [],
   "source": [
    "\"\"\"Encoder the rtype\"\"\"\n",
    "rtype2int = {'':0, 'G':1, 'P':2, 'R':3, 'W':4, 'M':5}\n",
    "data_pair = defaultdict(int)\n",
    "for tile in d_tile_label.keys():\n",
    "    if len(d_tile_label[tile])>1:\n",
    "        data_pair[tile] = rtype2int['M']\n",
    "    else:\n",
    "        data_pair[tile] = rtype2int[d_tile_label[tile]]"
   ]
  },
  {
   "cell_type": "code",
   "execution_count": 10,
   "metadata": {
    "collapsed": true
   },
   "outputs": [],
   "source": [
    "int2rtype = {0: '0', 1:'G', 2:'P', 3:'R', 4:'W',  5:'M'}"
   ]
  },
  {
   "cell_type": "markdown",
   "metadata": {},
   "source": [
    "Stats of data"
   ]
  },
  {
   "cell_type": "code",
   "execution_count": 11,
   "metadata": {},
   "outputs": [
    {
     "name": "stdout",
     "output_type": "stream",
     "text": [
      "0  2553\n",
      "1 G 3174\n",
      "2 G-P 110\n",
      "3 G-P-R 5\n",
      "4 G-P-W 12\n",
      "5 G-R 205\n",
      "6 G-R-W 40\n",
      "7 G-T 1\n",
      "8 G-W 232\n",
      "9 P 113\n",
      "10 P-R 2\n",
      "11 P-R-W 1\n",
      "12 P-W 49\n",
      "13 R 70\n",
      "14 R-W 70\n",
      "15 W 863\n",
      "\n",
      " 2553\n",
      "G 3174\n",
      "M 727\n",
      "P 113\n",
      "R 70\n",
      "W 863\n",
      "\n",
      "7500\n"
     ]
    }
   ],
   "source": [
    "d_rtype_counts = defaultdict(int)\n",
    "d_rtype_cnt_merge = defaultdict(int)\n",
    "for img in d_tile_label.keys():\n",
    "    d_rtype_counts[d_tile_label[img]] += 1\n",
    "    if len(d_tile_label[img])>1:\n",
    "        d_rtype_cnt_merge['M'] += 1\n",
    "    else:\n",
    "        d_rtype_cnt_merge[d_tile_label[img]] += 1\n",
    "for i, rt in enumerate(sorted(d_rtype_counts.keys())):\n",
    "    print(i, rt, d_rtype_counts[rt])\n",
    "\n",
    "print()\n",
    "cnt = 0\n",
    "for rt in sorted(d_rtype_cnt_merge.keys()):\n",
    "    print(rt, d_rtype_cnt_merge[rt])\n",
    "    cnt += d_rtype_cnt_merge[rt]\n",
    "\n",
    "print('\\n{}'.format(cnt))"
   ]
  },
  {
   "cell_type": "code",
   "execution_count": 12,
   "metadata": {
    "collapsed": true
   },
   "outputs": [],
   "source": [
    "R_Folder = '../result/week2/'"
   ]
  },
  {
   "cell_type": "code",
   "execution_count": 13,
   "metadata": {},
   "outputs": [
    {
     "data": {
      "image/png": "[encoded data removed]",
      "text/plain": [
       "<matplotlib.figure.Figure at 0x2b4e4f35f208>"
      ]
     },
     "metadata": {
      "needs_background": "light"
     },
     "output_type": "display_data"
    }
   ],
   "source": [
    "x = [k if len(k)>0 else '0' for k in d_rtype_counts.keys()]\n",
    "y = [d_rtype_counts[k] if k!='0' else d_rtype_counts[''] for k in x]\n",
    "x_n = [i for i in range(len(x))]\n",
    "plt.bar(x_n, y)\n",
    "#plt.xticks(x_n,x,rotation='vertical')\n",
    "plt.xticks(x_n,x,rotation=40)\n",
    "plt.show()"
   ]
  },
  {
   "cell_type": "code",
   "execution_count": 14,
   "metadata": {},
   "outputs": [
    {
     "data": {
      "text/plain": [
       "70"
      ]
     },
     "execution_count": 14,
     "metadata": {},
     "output_type": "execute_result"
    }
   ],
   "source": [
    "d_rtype_cnt_merge['R']"
   ]
  },
  {
   "cell_type": "code",
   "execution_count": 14,
   "metadata": {},
   "outputs": [
    {
     "data": {
      "image/png": "[encoded data removed]",
      "text/plain": [
       "<matplotlib.figure.Figure at 0x2b4e4f35a0f0>"
      ]
     },
     "metadata": {
      "needs_background": "light"
     },
     "output_type": "display_data"
    }
   ],
   "source": [
    "x = [k if len(k)>0 else '0' for k in d_rtype_cnt_merge.keys()]\n",
    "#x_label = [dict_roadtype[k] for k in d_rtype_cnt_merge.keys()]\n",
    "y = [d_rtype_cnt_merge[k] if k!='0' else d_rtype_cnt_merge[''] for k in x]\n",
    "x_n = [i for i in range(len(x))]\n",
    "plt.bar(x_n, y)\n",
    "#plt.xticks(x_n,x,rotation='vertical')\n",
    "plt.xticks(x_n,x,rotation=0)\n",
    "plt.show()"
   ]
  },
  {
   "cell_type": "code",
   "execution_count": 20,
   "metadata": {},
   "outputs": [
    {
     "data": {
      "image/png": "[encoded data removed]",
      "text/plain": [
       "<matplotlib.figure.Figure at 0x2b79e6a7c400>"
      ]
     },
     "metadata": {
      "needs_background": "light"
     },
     "output_type": "display_data"
    }
   ],
   "source": [
    "x = sorted(list(int2rtype.keys()))\n",
    "y = [d_rtype_cnt_merge[int2rtype[k]] if k>0 else d_rtype_cnt_merge[''] for k in x]\n",
    "x_label = [int2rtype[k] for k in x]\n",
    "x_label1 = [dict_roadtype[k] for k in x_label]\n",
    "\n",
    "fig, ax = plt.subplots(figsize=(6.0, 4.0))\n",
    "bar = plt.barh(x, y)\n",
    "plt.yticks(x,x_label1,rotation=0, ha=\"right\")\n",
    "x_in = [500*k for k in range(8)]\n",
    "plt.xticks(x_in)\n",
    "\n",
    "for i, v in enumerate(y):\n",
    "    ax.text(v + 3, i, str(v), va='center')\n",
    "\n",
    "plt.savefig('../results/road_type.jpg', dpi=750, bbox_inches = \"tight\")\n",
    "plt.show()"
   ]
  },
  {
   "cell_type": "markdown",
   "metadata": {},
   "source": [
    "### Split dataset into train dataset and validatiaon dataset"
   ]
  },
  {
   "cell_type": "code",
   "execution_count": 15,
   "metadata": {
    "collapsed": true
   },
   "outputs": [],
   "source": [
    "TRAIN_SIZE = 6000\n",
    "VAL_SIZE = 1500"
   ]
  },
  {
   "cell_type": "code",
   "execution_count": 31,
   "metadata": {
    "collapsed": true
   },
   "outputs": [],
   "source": [
    "data = list(data_pair)\n",
    "random.shuffle(data)\n",
    "data_train = data[:TRAIN_SIZE]\n",
    "data_val = data[TRAIN_SIZE:]"
   ]
  },
  {
   "cell_type": "code",
   "execution_count": 35,
   "metadata": {
    "collapsed": true
   },
   "outputs": [],
   "source": [
    "import pickle\n",
    "\n",
    "with open('../data/data_train.pkl', 'wb') as f:\n",
    "     pickle.dump(data_train, f)\n",
    "        \n",
    "with open('../data/data_val.pkl', 'wb') as f:\n",
    "    pickle.dump(data_val, f)\n",
    "\n",
    "with open('../data/data_pair.pkl', 'wb') as f:\n",
    "    pickle.dump(data_pair, f)"
   ]
  },
  {
   "cell_type": "markdown",
   "metadata": {},
   "source": [
    "## Try to augmentate data\n",
    "\n",
    "1. Classify the multi-type tiles into different road type\n",
    "    1. multi-class contains P to P\n",
    "    2. multi-class contains R to R\n",
    "    3. multi-class contains both P and R to R\n",
    "2. Upsample Type P and Type R by rotation and changing color jitter\n",
    "3. Build a data structure to link the tile name, tile label, augmente operation 'Copy', 'Rotate'... (Just randomly do it to all data)"
   ]
  },
  {
   "cell_type": "code",
   "execution_count": 64,
   "metadata": {
    "collapsed": true
   },
   "outputs": [],
   "source": [
    "import pickle\n",
    "\n",
    "with open('../data/dict_tile_label_true.pkl','wb') as f:\n",
    "    pickle.dump(d_tile_label, f)"
   ]
  },
  {
   "cell_type": "code",
   "execution_count": 32,
   "metadata": {
    "collapsed": true
   },
   "outputs": [],
   "source": [
    "d_label_tile_train = defaultdict(list)\n",
    "for k in data_train:\n",
    "    if d_tile_label[k]=='':\n",
    "        d_label_tile_train['0'].append(k)\n",
    "    else:\n",
    "        d_label_tile_train[d_tile_label[k]].append(k)"
   ]
  },
  {
   "cell_type": "code",
   "execution_count": 33,
   "metadata": {},
   "outputs": [
    {
     "data": {
      "text/plain": [
       "dict_keys(['0', 'G', 'P', 'W', 'W-G', 'R', 'R-G', 'W-R-G', 'P-G', 'W-P', 'W-R', 'R-P', 'W-P-G', 'R-P-G', 'T-G', 'P-R-G'])"
      ]
     },
     "execution_count": 33,
     "metadata": {},
     "output_type": "execute_result"
    }
   ],
   "source": [
    "d_label_tile_train.keys()"
   ]
  },
  {
   "cell_type": "code",
   "execution_count": 34,
   "metadata": {
    "collapsed": true
   },
   "outputs": [],
   "source": [
    "int2rtype = {0: '0', 1:'G', 2:'P', 3:'R', 4:'W', 5:'M'}"
   ]
  },
  {
   "cell_type": "code",
   "execution_count": 35,
   "metadata": {
    "collapsed": true
   },
   "outputs": [],
   "source": [
    "d_label_tile_merge = defaultdict(list)\n",
    "d_label_tile_merge['0'] = d_label_tile_train['0']\n",
    "# d_label_tile_merge['G'] = d_label_tile['G']+d_label_tile['T-G']\n",
    "# d_label_tile_merge['P'] = d_label_tile['P'] + d_label_tile['G-P'] + d_label_tile['W-P'] + d_label_tile['G-W-P'] + d_label_tile['R-W-P']\n",
    "# d_label_tile_merge['R'] = d_label_tile['R'] + d_label_tile['G-R'] + d_label_tile['R-W'] + d_label_tile['G-R-W'] + d_label_tile['R-P'] + d_label_tile['G-R-P']\n",
    "# d_label_tile_merge['W'] = d_label_tile['W'] + d_label_tile['G-W']\n",
    "d_label_tile_merge['G'] = d_label_tile_train['G']\n",
    "d_label_tile_merge['P'] = d_label_tile_train['P'] \n",
    "d_label_tile_merge['R'] = d_label_tile_train['R']\n",
    "d_label_tile_merge['W'] = d_label_tile_train['W'] \n",
    "d_label_tile_merge['M'] = d_label_tile_train['T-G'] + d_label_tile_train['G-P'] + d_label_tile_train['W-P'] + d_label_tile_train['G-W-P'] + d_label_tile_train['R-W-P']  + \\\n",
    "    d_label_tile_train['G-R'] + d_label_tile_train['R-W'] + d_label_tile_train['G-R-W'] + d_label_tile_train['R-P'] + d_label_tile_train['G-R-P'] +d_label_tile_train['T-G'] + \\\n",
    "    d_label_tile_train['G-P'] + d_label_tile_train['W-P'] + d_label_tile_train['G-W-P'] + d_label_tile_train['R-W-P'] + d_label_tile_train['G-W']"
   ]
  },
  {
   "cell_type": "code",
   "execution_count": 37,
   "metadata": {},
   "outputs": [
    {
     "name": "stdout",
     "output_type": "stream",
     "text": [
      "0 2042\n",
      "G 2551\n",
      "P 86\n",
      "R 50\n",
      "W 693\n",
      "M 80\n"
     ]
    }
   ],
   "source": [
    "for k in d_label_tile_merge.keys():\n",
    "    print(k, len(d_label_tile_merge[k]))"
   ]
  },
  {
   "cell_type": "code",
   "execution_count": 38,
   "metadata": {
    "collapsed": true
   },
   "outputs": [],
   "source": [
    "data_train_up = []\n",
    "\n",
    "data_train_up += d_label_tile_merge['0']\n",
    "data_train_up += d_label_tile_merge['G']\n",
    "data_train_up += 20*d_label_tile_merge['P']\n",
    "data_train_up += 40*d_label_tile_merge['R']\n",
    "data_train_up += 3*d_label_tile_merge['W']\n",
    "data_train_up += d_label_tile_merge['M']"
   ]
  },
  {
   "cell_type": "code",
   "execution_count": 41,
   "metadata": {},
   "outputs": [
    {
     "data": {
      "text/plain": [
       "6"
      ]
     },
     "execution_count": 41,
     "metadata": {},
     "output_type": "execute_result"
    }
   ],
   "source": [
    "len(list(set(data_pair.values())))"
   ]
  },
  {
   "cell_type": "code",
   "execution_count": 21,
   "metadata": {},
   "outputs": [
    {
     "name": "stdout",
     "output_type": "stream",
     "text": [
      "0, No road, 2044\n",
      "G, Municipality, 2544\n",
      "P, Province, 92\n",
      "R, Goverment, 53\n",
      "W, Water managerment authorities, 694\n",
      "M, Multi types, 573\n"
     ]
    }
   ],
   "source": [
    "int2rtype = {0: '0', 1:'G', 2:'P', 3:'R', 4:'W',  5:'M'}\n",
    "dict_roadtype = {\n",
    "    \"G\": 'Municipality',\n",
    "    \"R\": 'Goverment',\n",
    "    \"P\": 'Province',\n",
    "    \"W\": 'Water managerment authorities',\n",
    "    'T': 'Other type',\n",
    "    \"M\": 'Multi types',\n",
    "    \"\": 'No road',\n",
    "    \"0\": 'No road'\n",
    "}\n",
    "\n",
    "import pickle\n",
    "\n",
    "with open('../data/data_train.pkl', 'rb') as f:\n",
    "     data_train = pickle.load(f)\n",
    "        \n",
    "with open('../data/data_val.pkl', 'rb') as f:\n",
    "    data_val = pickle.load(f)\n",
    "\n",
    "with open('../data/data_pair.pkl', 'rb') as f:\n",
    "    data_pair = pickle.load(f)\n",
    "\n",
    "# with open('../data/dict_tile_label_true.pkl', 'rb') as f:\n",
    "#     data_tile_label = pickle.load(f)\n",
    "    \n",
    "FOLDER_IMG = '../datasets/image_tiles_200/'\n",
    "\n",
    "def classify_roads(data, data_pair):\n",
    "    d_tile_imgs = defaultdict(list)\n",
    "    for img in data:\n",
    "        d_tile_imgs[data_pair[img]].append(img)\n",
    "    return d_tile_imgs\n",
    "\n",
    "d_tile_imgs_train = classify_roads(data_train, data_pair)\n",
    "for k in sorted(d_tile_imgs_train.keys()):\n",
    "    print('{}, {}, {}'.format(int2rtype[k], dict_roadtype[int2rtype[k]], len(d_tile_imgs_train[k])))"
   ]
  },
  {
   "cell_type": "code",
   "execution_count": 22,
   "metadata": {},
   "outputs": [
    {
     "name": "stdout",
     "output_type": "stream",
     "text": [
      "0, No road, 2044\n",
      "G, Municipality, 2544\n",
      "P, Province, 1840\n",
      "R, Goverment, 1590\n",
      "W, Water managerment authorities, 2082\n",
      "M, Multi types, 1719\n"
     ]
    }
   ],
   "source": [
    "def upsample(d_tile_imgs, upsample_scale):\n",
    "    data = []\n",
    "    for k in d_tile_imgs.keys():\n",
    "        data += d_tile_imgs[k]*upsample_scale[k]\n",
    "    return data\n",
    "\n",
    "upsample_scale = {0: 1, 1:1, 2:20, 3:30, 4:3, 5:3}\n",
    "data_train = upsample(d_tile_imgs_train, upsample_scale)\n",
    "a = classify_roads(data_train, data_pair)\n",
    "for k in sorted(a.keys()):\n",
    "    print('{}, {}, {}'.format(int2rtype[k], dict_roadtype[int2rtype[k]], len(a[k])))"
   ]
  },
  {
   "cell_type": "code",
   "execution_count": 23,
   "metadata": {},
   "outputs": [
    {
     "data": {
      "image/png": "[encoded data removed]",
      "text/plain": [
       "<matplotlib.figure.Figure at 0x2b7a54ae9518>"
      ]
     },
     "metadata": {
      "needs_background": "light"
     },
     "output_type": "display_data"
    }
   ],
   "source": [
    "x = sorted(list(int2rtype.keys()))\n",
    "y = [d_rtype_cnt_merge[int2rtype[k]] if k>0 else d_rtype_cnt_merge[''] for k in x]\n",
    "x_label = [int2rtype[k] for k in x]\n",
    "x_label1 = [dict_roadtype[k] for k in x_label]\n",
    "\n",
    "fig, ax = plt.subplots(figsize=(6.0, 4.0))\n",
    "bar = plt.barh(x, y)\n",
    "plt.yticks(x,x_label1,rotation=0, ha=\"right\")\n",
    "x_in = [500*k for k in range(8)]\n",
    "plt.xticks(x_in)\n",
    "\n",
    "for i, v in enumerate(y):\n",
    "    ax.text(v + 3, i, str(v), va='center')\n",
    "plt.show()"
   ]
  },
  {
   "cell_type": "code",
   "execution_count": 30,
   "metadata": {},
   "outputs": [
    {
     "data": {
      "image/png": "[encoded data removed]",
      "text/plain": [
       "<matplotlib.figure.Figure at 0x2b79e75b7e48>"
      ]
     },
     "metadata": {
      "needs_background": "light"
     },
     "output_type": "display_data"
    }
   ],
   "source": [
    "x = sorted(list(int2rtype.keys()))\n",
    "\n",
    "y = [d_rtype_cnt_merge[int2rtype[k]] if k>0 else d_rtype_cnt_merge[''] for k in x]\n",
    "y_up = [len(a[k]) for k in x]\n",
    "x_label = [int2rtype[k] for k in x]\n",
    "x_label1 = [dict_roadtype[k] for k in x_label]\n",
    "\n",
    "ax = plt.subplot(111)\n",
    "ax.barh(x, y_up, color='g', align='center', label = 'Upsampling')\n",
    "ax.barh(x, y, align='center')\n",
    "\n",
    "plt.yticks(x,x_label1,rotation=0, ha=\"right\")\n",
    "x_in = [500*k for k in range(8)]\n",
    "plt.xticks(x_in)\n",
    "\n",
    "\n",
    "for i, v in enumerate(y_up):\n",
    "    ax.text(max(v, y[i]) + 3, i,  str(v), va='center')\n",
    "    \n",
    "plt.legend()\n",
    "plt.savefig('../results/week2/road_type_upsampling.jpg', dpi=500, bbox_inches = \"tight\")\n",
    "plt.show()"
   ]
  },
  {
   "cell_type": "markdown",
   "metadata": {},
   "source": [
    "### Create Dataset and DataLoader"
   ]
  },
  {
   "cell_type": "code",
   "execution_count": 44,
   "metadata": {
    "collapsed": true
   },
   "outputs": [],
   "source": [
    "import torch\n",
    "from torch.utils.data import Dataset, DataLoader\n",
    "\n",
    "import torch.nn as nn\n",
    "import torch.nn.functional as F\n",
    "import torch.optim as optim\n",
    "from torch.utils.data import Dataset, DataLoader\n",
    "from torchvision import transforms, utils\n",
    "import torchvision.transforms as transforms\n",
    "\n",
    "import random"
   ]
  },
  {
   "cell_type": "code",
   "execution_count": 45,
   "metadata": {
    "collapsed": true
   },
   "outputs": [],
   "source": [
    "\n",
    "class Insight_Dataset(Dataset):\n",
    "    \"\"\"\n",
    "    The size of image is (3, 256, 256)\n",
    "    \"\"\"\n",
    "    def __init__(self, img_folder, data, pair):\n",
    "        self.folder = img_folder\n",
    "        self.data = data\n",
    "        #self.keys = list(d_tile_label.keys()).sort(key=lambda x: [int(x.split('_')[0]), int(x.split('_')[1])])\n",
    "        self.pair = pair\n",
    "        self.colorjitter = transforms.ColorJitter()\n",
    "        \n",
    "    \n",
    "    def __len__(self):\n",
    "        return len(self.data)\n",
    "    \n",
    "\n",
    "    def __getitem__(self, idx):\n",
    "        '''\n",
    "        return （image, label）\n",
    "        '''\n",
    "        tile_name = self.folder + self.data[idx]\n",
    "        img = plt.imread(tile_name)\n",
    "        label = self.pair[self.data[idx]]\n",
    "        k = random.randint(0,9)\n",
    "        if k==0:\n",
    "            img = img.transpose(1,0,2)\n",
    "        elif k==1:\n",
    "            img = img.transpose(1,0,2)\n",
    "            img = img.transpose(1,0,2)\n",
    "        elif k==2:\n",
    "            img = img.transpose(1,0,2)\n",
    "            img = img.transpose(1,0,2)\n",
    "            img = img.transpose(1,0,2)\n",
    "        else:\n",
    "            img = self.colorjitter(img)\n",
    "        return (torch.FloatTensor(img.T), label)\n"
   ]
  },
  {
   "cell_type": "code",
   "execution_count": 46,
   "metadata": {
    "collapsed": true
   },
   "outputs": [],
   "source": [
    "BATCH_SIZE = 32\n",
    "train_data = Insight_Dataset(FOLDER_IMG, data_train, data_pair)\n",
    "train_loader = torch.utils.data.DataLoader(dataset=train_data,\n",
    "                                           batch_size=BATCH_SIZE,\n",
    "                                           shuffle=True)\n",
    "val_data = Insight_Dataset(FOLDER_IMG, data_val, data_pair)\n",
    "val_loader = torch.utils.data.DataLoader(dataset=val_data,\n",
    "                                        batch_size = BATCH_SIZE,\n",
    "                                        shuffle = True)"
   ]
  },
  {
   "cell_type": "code",
   "execution_count": null,
   "metadata": {
    "collapsed": true
   },
   "outputs": [],
   "source": []
  }
 ],
 "metadata": {
  "kernelspec": {
   "display_name": "Python 3",
   "language": "python",
   "name": "python3"
  },
  "language_info": {
   "codemirror_mode": {
    "name": "ipython",
    "version": 3
   },
   "file_extension": ".py",
   "mimetype": "text/x-python",
   "name": "python",
   "nbconvert_exporter": "python",
   "pygments_lexer": "ipython3",
   "version": "3.6.8"
  }
 },
 "nbformat": 4,
 "nbformat_minor": 2
}
